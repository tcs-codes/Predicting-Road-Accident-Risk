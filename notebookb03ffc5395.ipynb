{
 "cells": [
  {
   "cell_type": "code",
   "execution_count": 1,
   "id": "2d09b1bf",
   "metadata": {
    "_cell_guid": "b1076dfc-b9ad-4769-8c92-a6c4dae69d19",
    "_uuid": "8f2839f25d086af736a60e9eeb907d3b93b6e0e5",
    "execution": {
     "iopub.execute_input": "2025-10-23T19:25:44.541204Z",
     "iopub.status.busy": "2025-10-23T19:25:44.540658Z",
     "iopub.status.idle": "2025-10-23T19:25:47.145183Z",
     "shell.execute_reply": "2025-10-23T19:25:47.143630Z"
    },
    "papermill": {
     "duration": 2.611943,
     "end_time": "2025-10-23T19:25:47.147330",
     "exception": false,
     "start_time": "2025-10-23T19:25:44.535387",
     "status": "completed"
    },
    "tags": []
   },
   "outputs": [
    {
     "name": "stdout",
     "output_type": "stream",
     "text": [
      "(2662, 427)\n",
      "(666, 426)\n"
     ]
    }
   ],
   "source": [
    "import pandas as pd\n",
    "import numpy as np\n",
    "\n",
    "X_train = pd.read_csv(\"/kaggle/input/melting-point/train.csv\")\n",
    "X_test = pd.read_csv(\"/kaggle/input/melting-point/test.csv\")\n",
    "\n",
    "print(X_train.shape)\n",
    "print(X_test.shape)"
   ]
  },
  {
   "cell_type": "code",
   "execution_count": 2,
   "id": "52186c89",
   "metadata": {
    "execution": {
     "iopub.execute_input": "2025-10-23T19:25:47.155176Z",
     "iopub.status.busy": "2025-10-23T19:25:47.154886Z",
     "iopub.status.idle": "2025-10-23T19:25:47.182889Z",
     "shell.execute_reply": "2025-10-23T19:25:47.181369Z"
    },
    "papermill": {
     "duration": 0.034465,
     "end_time": "2025-10-23T19:25:47.185129",
     "exception": false,
     "start_time": "2025-10-23T19:25:47.150664",
     "status": "completed"
    },
    "tags": []
   },
   "outputs": [
    {
     "name": "stdout",
     "output_type": "stream",
     "text": [
      "id           0\n",
      "SMILES       0\n",
      "Tm           0\n",
      "Group 1      0\n",
      "Group 2      0\n",
      "            ..\n",
      "Group 420    0\n",
      "Group 421    0\n",
      "Group 422    0\n",
      "Group 423    0\n",
      "Group 424    0\n",
      "Length: 427, dtype: int64\n"
     ]
    }
   ],
   "source": [
    "# checking for missing values\n",
    "print(X_train.isnull().sum())"
   ]
  },
  {
   "cell_type": "code",
   "execution_count": 3,
   "id": "2d42daf6",
   "metadata": {
    "execution": {
     "iopub.execute_input": "2025-10-23T19:25:47.193453Z",
     "iopub.status.busy": "2025-10-23T19:25:47.193122Z",
     "iopub.status.idle": "2025-10-23T19:25:47.224013Z",
     "shell.execute_reply": "2025-10-23T19:25:47.222447Z"
    },
    "papermill": {
     "duration": 0.038004,
     "end_time": "2025-10-23T19:25:47.226357",
     "exception": false,
     "start_time": "2025-10-23T19:25:47.188353",
     "status": "completed"
    },
    "tags": []
   },
   "outputs": [],
   "source": [
    "# prepare X and y\n",
    "X = X_train.drop(columns = ['id', 'SMILES', 'Tm'])\n",
    "y = X_train['Tm']\n",
    "\n",
    "# print(X.head())\n",
    "# print(y.head())"
   ]
  },
  {
   "cell_type": "code",
   "execution_count": 4,
   "id": "fcc3ceb1",
   "metadata": {
    "execution": {
     "iopub.execute_input": "2025-10-23T19:25:47.234366Z",
     "iopub.status.busy": "2025-10-23T19:25:47.234001Z",
     "iopub.status.idle": "2025-10-23T19:25:49.667708Z",
     "shell.execute_reply": "2025-10-23T19:25:49.665987Z"
    },
    "papermill": {
     "duration": 2.440253,
     "end_time": "2025-10-23T19:25:49.670067",
     "exception": false,
     "start_time": "2025-10-23T19:25:47.229814",
     "status": "completed"
    },
    "tags": []
   },
   "outputs": [],
   "source": [
    "from sklearn.model_selection import train_test_split\n",
    "train_X, val_X, train_y, val_y = train_test_split(X, y, test_size = 0.2, random_state = 0)"
   ]
  },
  {
   "cell_type": "code",
   "execution_count": 5,
   "id": "35d229b4",
   "metadata": {
    "execution": {
     "iopub.execute_input": "2025-10-23T19:25:49.680713Z",
     "iopub.status.busy": "2025-10-23T19:25:49.678791Z",
     "iopub.status.idle": "2025-10-23T19:25:49.686621Z",
     "shell.execute_reply": "2025-10-23T19:25:49.685062Z"
    },
    "papermill": {
     "duration": 0.015132,
     "end_time": "2025-10-23T19:25:49.689247",
     "exception": false,
     "start_time": "2025-10-23T19:25:49.674115",
     "status": "completed"
    },
    "tags": []
   },
   "outputs": [],
   "source": [
    "# from sklearn.pipeline import Pipeline\n",
    "# from sklearn.model_selection import cross_val_score\n",
    "# from xgboost import XGBRegressor\n",
    "\n",
    "# def get_score(n_estimators):\n",
    "#     my_pipeline = Pipeline(steps=[\n",
    "#         ('model', XGBRegressor(n_estimators=n_estimators, learning_rate=0.05) )\n",
    "#     ])\n",
    "#     scores = -1 * cross_val_score(my_pipeline, train_X, train_y,\n",
    "#                               cv=5,\n",
    "#                               scoring='neg_mean_absolute_error')\n",
    "#     cv_mae = scores.mean()\n",
    "\n",
    "#     # Fit on full training set\n",
    "#     my_pipeline.fit(train_X, train_y)\n",
    "    \n",
    "#     # Validation score\n",
    "#     valid_preds = my_pipeline.predict(X_valid)\n",
    "#     valid_mae = mean_absolute_error(y_valid, valid_preds)\n",
    "    \n",
    "#     #print(f\"CV MAE: {cv_mae:.4f}\")\n",
    "#     #print(f\"Validation MAE: {valid_mae:.4f}\")\n",
    "\n",
    "#     return cv_mae, valid_mae"
   ]
  },
  {
   "cell_type": "code",
   "execution_count": 6,
   "id": "0b096af8",
   "metadata": {
    "execution": {
     "iopub.execute_input": "2025-10-23T19:25:49.696585Z",
     "iopub.status.busy": "2025-10-23T19:25:49.696276Z",
     "iopub.status.idle": "2025-10-23T19:26:27.260669Z",
     "shell.execute_reply": "2025-10-23T19:26:27.257218Z"
    },
    "papermill": {
     "duration": 37.571375,
     "end_time": "2025-10-23T19:26:27.263644",
     "exception": false,
     "start_time": "2025-10-23T19:25:49.692269",
     "status": "completed"
    },
    "tags": []
   },
   "outputs": [
    {
     "name": "stdout",
     "output_type": "stream",
     "text": [
      "Mean Absolute Error: 33.8018574200428\n"
     ]
    }
   ],
   "source": [
    "# Define the model\n",
    "from xgboost import XGBRegressor\n",
    "\n",
    "my_model_1 = XGBRegressor(n_estimators=15000, learning_rate=0.0125) \n",
    "\n",
    "# Fit the model\n",
    "my_model_1.fit(train_X, train_y)\n",
    "\n",
    "# Get predictions\n",
    "predictions_1 = my_model_1.predict(val_X)\n",
    "\n",
    "# Calculate MAE\n",
    "from sklearn.metrics import mean_absolute_error\n",
    "mae_1 =  mean_absolute_error(predictions_1, val_y)\n",
    "\n",
    "# Uncomment to print MAE\n",
    "print(\"Mean Absolute Error:\", mae_1)"
   ]
  },
  {
   "cell_type": "code",
   "execution_count": 7,
   "id": "76b61041",
   "metadata": {
    "execution": {
     "iopub.execute_input": "2025-10-23T19:26:27.272954Z",
     "iopub.status.busy": "2025-10-23T19:26:27.272461Z",
     "iopub.status.idle": "2025-10-23T19:26:27.701113Z",
     "shell.execute_reply": "2025-10-23T19:26:27.700148Z"
    },
    "papermill": {
     "duration": 0.436009,
     "end_time": "2025-10-23T19:26:27.703441",
     "exception": false,
     "start_time": "2025-10-23T19:26:27.267432",
     "status": "completed"
    },
    "tags": []
   },
   "outputs": [
    {
     "name": "stdout",
     "output_type": "stream",
     "text": [
      "Mean Absolute Error: 23001673.781206608\n"
     ]
    }
   ],
   "source": [
    "# define model\n",
    "from sklearn.linear_model import LinearRegression\n",
    "\n",
    "# Create model\n",
    "my_model_2 = LinearRegression()\n",
    "\n",
    "# Fit (train) the model\n",
    "my_model_2.fit(train_X, train_y)\n",
    "\n",
    "# Make predictions\n",
    "predictions_2 = my_model_2.predict(val_X)\n",
    "\n",
    "# Calculate MAE\n",
    "from sklearn.metrics import mean_absolute_error\n",
    "mae_2 =  mean_absolute_error(predictions_2, val_y)\n",
    "\n",
    "# Uncomment to print MAE\n",
    "print(\"Mean Absolute Error:\", mae_2)"
   ]
  },
  {
   "cell_type": "code",
   "execution_count": 8,
   "id": "8902765b",
   "metadata": {
    "execution": {
     "iopub.execute_input": "2025-10-23T19:26:27.723364Z",
     "iopub.status.busy": "2025-10-23T19:26:27.722611Z",
     "iopub.status.idle": "2025-10-23T19:32:01.906178Z",
     "shell.execute_reply": "2025-10-23T19:32:01.905064Z"
    },
    "papermill": {
     "duration": 334.196285,
     "end_time": "2025-10-23T19:32:01.909409",
     "exception": false,
     "start_time": "2025-10-23T19:26:27.713124",
     "status": "completed"
    },
    "tags": []
   },
   "outputs": [
    {
     "name": "stdout",
     "output_type": "stream",
     "text": [
      "Mean Absolute Error: 37.26223390927009\n"
     ]
    }
   ],
   "source": [
    "# define model\n",
    "from sklearn.ensemble import RandomForestRegressor\n",
    "\n",
    "# Create the model\n",
    "my_model_3 = RandomForestRegressor(n_estimators=10000)\n",
    "\n",
    "# Train the model\n",
    "my_model_3.fit(train_X, train_y)\n",
    "\n",
    "# Make predictions\n",
    "predictions_3 = my_model_3.predict(val_X)\n",
    "\n",
    "# Calculate MAE\n",
    "from sklearn.metrics import mean_absolute_error\n",
    "mae_3 =  mean_absolute_error(predictions_3, val_y)\n",
    "\n",
    "# Uncomment to print MAE\n",
    "print(\"Mean Absolute Error:\", mae_3)"
   ]
  },
  {
   "cell_type": "code",
   "execution_count": 9,
   "id": "74ac570c",
   "metadata": {
    "execution": {
     "iopub.execute_input": "2025-10-23T19:32:01.917096Z",
     "iopub.status.busy": "2025-10-23T19:32:01.916719Z",
     "iopub.status.idle": "2025-10-23T19:35:10.103040Z",
     "shell.execute_reply": "2025-10-23T19:35:10.100158Z"
    },
    "papermill": {
     "duration": 188.192818,
     "end_time": "2025-10-23T19:35:10.105407",
     "exception": false,
     "start_time": "2025-10-23T19:32:01.912589",
     "status": "completed"
    },
    "tags": []
   },
   "outputs": [
    {
     "name": "stdout",
     "output_type": "stream",
     "text": [
      "Mean Absolute Error for  100  estimators:  51.39433909575442\n",
      "Mean Absolute Error for  500  estimators:  42.270545037074555\n",
      "Mean Absolute Error for  1000  estimators:  39.1947064105923\n",
      "Mean Absolute Error for  5000  estimators:  34.67239519473535\n",
      "Mean Absolute Error for  10000  estimators:  33.90017600454935\n",
      "Mean Absolute Error for  15000  estimators:  33.8018574200428\n",
      "Mean Absolute Error for  20000  estimators:  34.092209088466845\n",
      "Mean Absolute Error for  25000  estimators:  34.23597633404758\n"
     ]
    }
   ],
   "source": [
    "# determining optimal n_estimators\n",
    "estimators = [100, 500, 1000, 5000, 10000, 15000, 20000, 25000]\n",
    "\n",
    "for i in estimators:\n",
    "    model = XGBRegressor(n_estimators=i, learning_rate=0.0125) \n",
    "\n",
    "    # Fit the model\n",
    "    model.fit(train_X, train_y)\n",
    "    \n",
    "    # Get predictions\n",
    "    pred = model.predict(val_X)\n",
    "    \n",
    "    # Calculate MAE\n",
    "    from sklearn.metrics import mean_absolute_error\n",
    "    mae =  mean_absolute_error(pred, val_y)\n",
    "    \n",
    "    # Uncomment to print MAE\n",
    "    print(\"Mean Absolute Error for \", i, \" estimators: \", mae)"
   ]
  },
  {
   "cell_type": "code",
   "execution_count": 10,
   "id": "c45b66d6",
   "metadata": {
    "execution": {
     "iopub.execute_input": "2025-10-23T19:35:10.117167Z",
     "iopub.status.busy": "2025-10-23T19:35:10.116694Z",
     "iopub.status.idle": "2025-10-23T19:35:10.389738Z",
     "shell.execute_reply": "2025-10-23T19:35:10.388285Z"
    },
    "papermill": {
     "duration": 0.282135,
     "end_time": "2025-10-23T19:35:10.392784",
     "exception": false,
     "start_time": "2025-10-23T19:35:10.110649",
     "status": "completed"
    },
    "tags": []
   },
   "outputs": [
    {
     "data": {
      "text/html": [
       "<div>\n",
       "<style scoped>\n",
       "    .dataframe tbody tr th:only-of-type {\n",
       "        vertical-align: middle;\n",
       "    }\n",
       "\n",
       "    .dataframe tbody tr th {\n",
       "        vertical-align: top;\n",
       "    }\n",
       "\n",
       "    .dataframe thead th {\n",
       "        text-align: right;\n",
       "    }\n",
       "</style>\n",
       "<table border=\"1\" class=\"dataframe\">\n",
       "  <thead>\n",
       "    <tr style=\"text-align: right;\">\n",
       "      <th></th>\n",
       "      <th>id</th>\n",
       "      <th>Tm</th>\n",
       "    </tr>\n",
       "  </thead>\n",
       "  <tbody>\n",
       "    <tr>\n",
       "      <th>0</th>\n",
       "      <td>1022</td>\n",
       "      <td>331.355682</td>\n",
       "    </tr>\n",
       "    <tr>\n",
       "      <th>1</th>\n",
       "      <td>1146</td>\n",
       "      <td>295.351013</td>\n",
       "    </tr>\n",
       "    <tr>\n",
       "      <th>2</th>\n",
       "      <td>79</td>\n",
       "      <td>230.048843</td>\n",
       "    </tr>\n",
       "    <tr>\n",
       "      <th>3</th>\n",
       "      <td>2279</td>\n",
       "      <td>209.369827</td>\n",
       "    </tr>\n",
       "    <tr>\n",
       "      <th>4</th>\n",
       "      <td>1342</td>\n",
       "      <td>217.608643</td>\n",
       "    </tr>\n",
       "  </tbody>\n",
       "</table>\n",
       "</div>"
      ],
      "text/plain": [
       "     id          Tm\n",
       "0  1022  331.355682\n",
       "1  1146  295.351013\n",
       "2    79  230.048843\n",
       "3  2279  209.369827\n",
       "4  1342  217.608643"
      ]
     },
     "metadata": {},
     "output_type": "display_data"
    }
   ],
   "source": [
    "# final prediction\n",
    "final_X_test = X_test.drop(columns = ['id', 'SMILES'])\n",
    "\n",
    "final_preds = my_model_1.predict(final_X_test)\n",
    "\n",
    "submission = pd.DataFrame({'id': X_test['id'], 'Tm': final_preds})\n",
    "submission.to_csv('submission.csv', index=False)\n",
    "display(submission.head())"
   ]
  },
  {
   "cell_type": "code",
   "execution_count": null,
   "id": "fd16a4d5",
   "metadata": {
    "papermill": {
     "duration": 0.003706,
     "end_time": "2025-10-23T19:35:10.400854",
     "exception": false,
     "start_time": "2025-10-23T19:35:10.397148",
     "status": "completed"
    },
    "tags": []
   },
   "outputs": [],
   "source": []
  }
 ],
 "metadata": {
  "kaggle": {
   "accelerator": "none",
   "dataSources": [
    {
     "databundleVersionId": 13473948,
     "sourceId": 113155,
     "sourceType": "competition"
    }
   ],
   "dockerImageVersionId": 31153,
   "isGpuEnabled": false,
   "isInternetEnabled": true,
   "language": "python",
   "sourceType": "notebook"
  },
  "kernelspec": {
   "display_name": "Python 3",
   "language": "python",
   "name": "python3"
  },
  "language_info": {
   "codemirror_mode": {
    "name": "ipython",
    "version": 3
   },
   "file_extension": ".py",
   "mimetype": "text/x-python",
   "name": "python",
   "nbconvert_exporter": "python",
   "pygments_lexer": "ipython3",
   "version": "3.11.13"
  },
  "papermill": {
   "default_parameters": {},
   "duration": 573.179819,
   "end_time": "2025-10-23T19:35:11.740174",
   "environment_variables": {},
   "exception": null,
   "input_path": "__notebook__.ipynb",
   "output_path": "__notebook__.ipynb",
   "parameters": {},
   "start_time": "2025-10-23T19:25:38.560355",
   "version": "2.6.0"
  }
 },
 "nbformat": 4,
 "nbformat_minor": 5
}
