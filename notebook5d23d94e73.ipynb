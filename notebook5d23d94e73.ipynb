{
 "cells": [
  {
   "cell_type": "code",
   "execution_count": 1,
   "id": "6d4e5349",
   "metadata": {
    "_cell_guid": "b1076dfc-b9ad-4769-8c92-a6c4dae69d19",
    "_uuid": "8f2839f25d086af736a60e9eeb907d3b93b6e0e5",
    "execution": {
     "iopub.execute_input": "2025-10-22T17:42:31.292912Z",
     "iopub.status.busy": "2025-10-22T17:42:31.292556Z",
     "iopub.status.idle": "2025-10-22T17:42:35.203972Z",
     "shell.execute_reply": "2025-10-22T17:42:35.202907Z"
    },
    "papermill": {
     "duration": 3.919524,
     "end_time": "2025-10-22T17:42:35.205692",
     "exception": false,
     "start_time": "2025-10-22T17:42:31.286168",
     "status": "completed"
    },
    "tags": []
   },
   "outputs": [],
   "source": [
    "import pandas as pd\n",
    "import numpy as np\n",
    "from sklearn.metrics import mean_squared_error\n",
    "from sklearn.metrics import mean_absolute_error\n",
    "from sklearn.model_selection import train_test_split"
   ]
  },
  {
   "cell_type": "code",
   "execution_count": 2,
   "id": "a6e86d99",
   "metadata": {
    "execution": {
     "iopub.execute_input": "2025-10-22T17:42:35.216302Z",
     "iopub.status.busy": "2025-10-22T17:42:35.215817Z",
     "iopub.status.idle": "2025-10-22T17:42:42.354325Z",
     "shell.execute_reply": "2025-10-22T17:42:42.353295Z"
    },
    "papermill": {
     "duration": 7.145865,
     "end_time": "2025-10-22T17:42:42.356202",
     "exception": false,
     "start_time": "2025-10-22T17:42:35.210337",
     "status": "completed"
    },
    "tags": []
   },
   "outputs": [],
   "source": [
    "# Import gradient boosting libraries\n",
    "import lightgbm as lgb\n",
    "import xgboost as xgb\n",
    "import catboost as catb"
   ]
  },
  {
   "cell_type": "code",
   "execution_count": 3,
   "id": "4daade84",
   "metadata": {
    "execution": {
     "iopub.execute_input": "2025-10-22T17:42:42.367700Z",
     "iopub.status.busy": "2025-10-22T17:42:42.366659Z",
     "iopub.status.idle": "2025-10-22T17:42:44.050167Z",
     "shell.execute_reply": "2025-10-22T17:42:44.049145Z"
    },
    "papermill": {
     "duration": 1.690939,
     "end_time": "2025-10-22T17:42:44.051889",
     "exception": false,
     "start_time": "2025-10-22T17:42:42.360950",
     "status": "completed"
    },
    "tags": []
   },
   "outputs": [],
   "source": [
    "train = pd.read_csv('/kaggle/input/playground-series-s5e10/train.csv')\n",
    "test = pd.read_csv('/kaggle/input/playground-series-s5e10/test.csv')\n",
    "sample_submission = pd.read_csv('/kaggle/input/playground-series-s5e10/sample_submission.csv')  "
   ]
  },
  {
   "cell_type": "code",
   "execution_count": 4,
   "id": "333ccbd5",
   "metadata": {
    "execution": {
     "iopub.execute_input": "2025-10-22T17:42:44.061696Z",
     "iopub.status.busy": "2025-10-22T17:42:44.061371Z",
     "iopub.status.idle": "2025-10-22T17:42:44.086217Z",
     "shell.execute_reply": "2025-10-22T17:42:44.085065Z"
    },
    "papermill": {
     "duration": 0.031564,
     "end_time": "2025-10-22T17:42:44.087883",
     "exception": false,
     "start_time": "2025-10-22T17:42:44.056319",
     "status": "completed"
    },
    "tags": []
   },
   "outputs": [
    {
     "name": "stdout",
     "output_type": "stream",
     "text": [
      "______________Train data______________\n",
      "   id road_type  num_lanes  curvature  speed_limit  lighting weather  \\\n",
      "0   0     urban          2       0.06           35  daylight   rainy   \n",
      "1   1     urban          4       0.99           35  daylight   clear   \n",
      "2   2     rural          4       0.63           70       dim   clear   \n",
      "3   3   highway          4       0.07           35       dim   rainy   \n",
      "4   4     rural          1       0.58           60  daylight   foggy   \n",
      "\n",
      "   road_signs_present  public_road time_of_day  holiday  school_season  \\\n",
      "0               False         True   afternoon    False           True   \n",
      "1                True        False     evening     True           True   \n",
      "2               False         True     morning     True          False   \n",
      "3                True         True     morning    False          False   \n",
      "4               False        False     evening     True          False   \n",
      "\n",
      "   num_reported_accidents  accident_risk  \n",
      "0                       1           0.13  \n",
      "1                       0           0.35  \n",
      "2                       2           0.30  \n",
      "3                       1           0.21  \n",
      "4                       1           0.56  \n",
      "______________Test data______________\n",
      "       id road_type  num_lanes  curvature  speed_limit  lighting weather  \\\n",
      "0  517754   highway          2       0.34           45     night   clear   \n",
      "1  517755     urban          3       0.04           45       dim   foggy   \n",
      "2  517756     urban          2       0.59           35       dim   clear   \n",
      "3  517757     rural          4       0.95           35  daylight   rainy   \n",
      "4  517758   highway          2       0.86           35  daylight   clear   \n",
      "\n",
      "   road_signs_present  public_road time_of_day  holiday  school_season  \\\n",
      "0                True         True   afternoon     True           True   \n",
      "1                True        False   afternoon     True          False   \n",
      "2                True        False   afternoon     True           True   \n",
      "3               False        False   afternoon    False          False   \n",
      "4                True        False     evening    False           True   \n",
      "\n",
      "   num_reported_accidents  \n",
      "0                       1  \n",
      "1                       0  \n",
      "2                       1  \n",
      "3                       2  \n",
      "4                       3  \n",
      "       id  accident_risk\n",
      "0  517754          0.352\n",
      "1  517755          0.352\n",
      "2  517756          0.352\n",
      "3  517757          0.352\n",
      "4  517758          0.352\n"
     ]
    }
   ],
   "source": [
    "print(\"______________Train data______________\")\n",
    "print(train.head())\n",
    "print(\"______________Test data______________\")\n",
    "print(test.head())\n",
    "print(sample_submission.head())"
   ]
  },
  {
   "cell_type": "code",
   "execution_count": 5,
   "id": "a219d119",
   "metadata": {
    "execution": {
     "iopub.execute_input": "2025-10-22T17:42:44.097704Z",
     "iopub.status.busy": "2025-10-22T17:42:44.097362Z",
     "iopub.status.idle": "2025-10-22T17:42:44.102657Z",
     "shell.execute_reply": "2025-10-22T17:42:44.101555Z"
    },
    "papermill": {
     "duration": 0.011943,
     "end_time": "2025-10-22T17:42:44.104108",
     "exception": false,
     "start_time": "2025-10-22T17:42:44.092165",
     "status": "completed"
    },
    "tags": []
   },
   "outputs": [
    {
     "name": "stdout",
     "output_type": "stream",
     "text": [
      "Train data shape\n",
      "(517754, 14)\n",
      "Test data shape\n",
      "(172585, 13)\n",
      "sample_submission data shape\n",
      "(172585, 2)\n"
     ]
    }
   ],
   "source": [
    "# Display information about the datasets\n",
    "print(\"Train data shape\")\n",
    "print(train.shape)\n",
    "print(\"Test data shape\")\n",
    "print(test.shape)\n",
    "print(\"sample_submission data shape\")\n",
    "print(sample_submission.shape)"
   ]
  },
  {
   "cell_type": "code",
   "execution_count": 6,
   "id": "59676cb0",
   "metadata": {
    "execution": {
     "iopub.execute_input": "2025-10-22T17:42:44.114156Z",
     "iopub.status.busy": "2025-10-22T17:42:44.113621Z",
     "iopub.status.idle": "2025-10-22T17:42:44.150507Z",
     "shell.execute_reply": "2025-10-22T17:42:44.148962Z"
    },
    "papermill": {
     "duration": 0.043577,
     "end_time": "2025-10-22T17:42:44.152107",
     "exception": false,
     "start_time": "2025-10-22T17:42:44.108530",
     "status": "completed"
    },
    "tags": []
   },
   "outputs": [
    {
     "name": "stdout",
     "output_type": "stream",
     "text": [
      "count    517754.000000\n",
      "mean          0.352377\n",
      "std           0.166417\n",
      "min           0.000000\n",
      "25%           0.230000\n",
      "50%           0.340000\n",
      "75%           0.460000\n",
      "max           1.000000\n",
      "Name: accident_risk, dtype: float64\n"
     ]
    }
   ],
   "source": [
    "# basic statistics\n",
    "print(train['accident_risk'].describe())"
   ]
  },
  {
   "cell_type": "code",
   "execution_count": 7,
   "id": "b19faf50",
   "metadata": {
    "execution": {
     "iopub.execute_input": "2025-10-22T17:42:44.162931Z",
     "iopub.status.busy": "2025-10-22T17:42:44.162265Z",
     "iopub.status.idle": "2025-10-22T17:42:44.279688Z",
     "shell.execute_reply": "2025-10-22T17:42:44.278724Z"
    },
    "papermill": {
     "duration": 0.124279,
     "end_time": "2025-10-22T17:42:44.281242",
     "exception": false,
     "start_time": "2025-10-22T17:42:44.156963",
     "status": "completed"
    },
    "tags": []
   },
   "outputs": [
    {
     "data": {
      "text/plain": [
       "id                        0\n",
       "road_type                 0\n",
       "num_lanes                 0\n",
       "curvature                 0\n",
       "speed_limit               0\n",
       "lighting                  0\n",
       "weather                   0\n",
       "road_signs_present        0\n",
       "public_road               0\n",
       "time_of_day               0\n",
       "holiday                   0\n",
       "school_season             0\n",
       "num_reported_accidents    0\n",
       "accident_risk             0\n",
       "dtype: int64"
      ]
     },
     "execution_count": 7,
     "metadata": {},
     "output_type": "execute_result"
    }
   ],
   "source": [
    "# check for missing data\n",
    "train.isnull().sum()"
   ]
  },
  {
   "cell_type": "code",
   "execution_count": 8,
   "id": "638ecbda",
   "metadata": {
    "execution": {
     "iopub.execute_input": "2025-10-22T17:42:44.291709Z",
     "iopub.status.busy": "2025-10-22T17:42:44.291379Z",
     "iopub.status.idle": "2025-10-22T17:42:44.684453Z",
     "shell.execute_reply": "2025-10-22T17:42:44.683391Z"
    },
    "papermill": {
     "duration": 0.40051,
     "end_time": "2025-10-22T17:42:44.686306",
     "exception": false,
     "start_time": "2025-10-22T17:42:44.285796",
     "status": "completed"
    },
    "tags": []
   },
   "outputs": [],
   "source": [
    "#road_type,lighting ,weather,time_of_day\n",
    "#following feature need to be encode with \"Label Encodeing\"\n",
    "\n",
    "from sklearn.preprocessing import LabelEncoder\n",
    "\n",
    "encoder = LabelEncoder()\n",
    "road_type_encoded = encoder.fit_transform(train[\"road_type\"])\n",
    "lighting_encoded = encoder.fit_transform(train[\"lighting\"])\n",
    "weather_encoded = encoder.fit_transform(train[\"weather\"])\n",
    "time_of_day_encoded = encoder.fit_transform(train[\"time_of_day\"])"
   ]
  },
  {
   "cell_type": "code",
   "execution_count": 9,
   "id": "1f4c5e5c",
   "metadata": {
    "execution": {
     "iopub.execute_input": "2025-10-22T17:42:44.696797Z",
     "iopub.status.busy": "2025-10-22T17:42:44.696480Z",
     "iopub.status.idle": "2025-10-22T17:42:45.001783Z",
     "shell.execute_reply": "2025-10-22T17:42:45.000930Z"
    },
    "papermill": {
     "duration": 0.312419,
     "end_time": "2025-10-22T17:42:45.003443",
     "exception": false,
     "start_time": "2025-10-22T17:42:44.691024",
     "status": "completed"
    },
    "tags": []
   },
   "outputs": [],
   "source": [
    "#road_signs_present,public_road,holiday,school_season\n",
    "#following feature need to be encode with \"One-Hot Encodeing\"\n",
    "# True → 1, False → 0\n",
    "road_signs_present_encoded = [int(x) for x in train[\"road_signs_present\"]]  \n",
    "public_road_encoded = [int(x) for x in train[\"public_road\"]]  \n",
    "holiday_encoded = [int(x) for x in train[\"holiday\"]]  \n",
    "school_season_encoded = [int(x) for x in train[\"school_season\"]]  "
   ]
  },
  {
   "cell_type": "code",
   "execution_count": 10,
   "id": "1c752f34",
   "metadata": {
    "execution": {
     "iopub.execute_input": "2025-10-22T17:42:45.013993Z",
     "iopub.status.busy": "2025-10-22T17:42:45.013635Z",
     "iopub.status.idle": "2025-10-22T17:42:45.021357Z",
     "shell.execute_reply": "2025-10-22T17:42:45.020314Z"
    },
    "papermill": {
     "duration": 0.014976,
     "end_time": "2025-10-22T17:42:45.023061",
     "exception": false,
     "start_time": "2025-10-22T17:42:45.008085",
     "status": "completed"
    },
    "tags": []
   },
   "outputs": [],
   "source": [
    "from sklearn.preprocessing import PolynomialFeatures\n",
    "def preprocess_dataframe(df: pd.DataFrame, drop_cols: list = None) -> pd.DataFrame:\n",
    "    df = df.copy()\n",
    "\n",
    "    # Handle missing values\n",
    "    # Althought there are no missing data\n",
    "    numeric_cols = df.select_dtypes(include=[np.number]).columns\n",
    "    df[numeric_cols] = df[numeric_cols].fillna(df[numeric_cols].median())\n",
    "    \n",
    "    # Step 0: Drop specified columns \n",
    "    \n",
    "    if drop_cols:\n",
    "        df = df.drop(columns=drop_cols, errors='ignore')  # 'ignore' avoids errors if column not found\n",
    "\n",
    "    # Step 1: Encode boolean columns\n",
    "    bool_cols = df.select_dtypes(include='bool').columns\n",
    "    df[bool_cols] = df[bool_cols].astype(int)\n",
    "\n",
    "    # Step 2: Label encode categorical columns\n",
    "    label_encoders = {}\n",
    "    for col in df.select_dtypes(include=['object', 'category']).columns:\n",
    "        le = LabelEncoder()\n",
    "        df[col] = le.fit_transform(df[col])\n",
    "        label_encoders[col] = le\n",
    "    # Step 3: Polynomial features\n",
    "    poly = PolynomialFeatures(degree=2, interaction_only=True, include_bias=False)\n",
    "    poly_features = poly.fit_transform(df[['num_lanes', 'curvature']])\n",
    "    poly_cols = [f'poly_{i}' for i in range(poly_features.shape[1])]\n",
    "    df[poly_cols] = poly_features\n",
    "    \n",
    "    return df"
   ]
  },
  {
   "cell_type": "code",
   "execution_count": 11,
   "id": "89f2c442",
   "metadata": {
    "execution": {
     "iopub.execute_input": "2025-10-22T17:42:45.033999Z",
     "iopub.status.busy": "2025-10-22T17:42:45.033248Z",
     "iopub.status.idle": "2025-10-22T17:42:45.657207Z",
     "shell.execute_reply": "2025-10-22T17:42:45.655732Z"
    },
    "papermill": {
     "duration": 0.631249,
     "end_time": "2025-10-22T17:42:45.658920",
     "exception": false,
     "start_time": "2025-10-22T17:42:45.027671",
     "status": "completed"
    },
    "tags": []
   },
   "outputs": [],
   "source": [
    "preprocess_train = preprocess_dataframe(train,drop_cols=['accident_risk','id'])"
   ]
  },
  {
   "cell_type": "code",
   "execution_count": 12,
   "id": "3b2673c2",
   "metadata": {
    "execution": {
     "iopub.execute_input": "2025-10-22T17:42:45.669606Z",
     "iopub.status.busy": "2025-10-22T17:42:45.669295Z",
     "iopub.status.idle": "2025-10-22T17:42:45.703057Z",
     "shell.execute_reply": "2025-10-22T17:42:45.701898Z"
    },
    "papermill": {
     "duration": 0.041009,
     "end_time": "2025-10-22T17:42:45.704685",
     "exception": false,
     "start_time": "2025-10-22T17:42:45.663676",
     "status": "completed"
    },
    "tags": []
   },
   "outputs": [
    {
     "data": {
      "text/html": [
       "<div>\n",
       "<style scoped>\n",
       "    .dataframe tbody tr th:only-of-type {\n",
       "        vertical-align: middle;\n",
       "    }\n",
       "\n",
       "    .dataframe tbody tr th {\n",
       "        vertical-align: top;\n",
       "    }\n",
       "\n",
       "    .dataframe thead th {\n",
       "        text-align: right;\n",
       "    }\n",
       "</style>\n",
       "<table border=\"1\" class=\"dataframe\">\n",
       "  <thead>\n",
       "    <tr style=\"text-align: right;\">\n",
       "      <th></th>\n",
       "      <th>road_type</th>\n",
       "      <th>num_lanes</th>\n",
       "      <th>curvature</th>\n",
       "      <th>speed_limit</th>\n",
       "      <th>lighting</th>\n",
       "      <th>weather</th>\n",
       "      <th>road_signs_present</th>\n",
       "      <th>public_road</th>\n",
       "      <th>time_of_day</th>\n",
       "      <th>holiday</th>\n",
       "      <th>school_season</th>\n",
       "      <th>num_reported_accidents</th>\n",
       "      <th>poly_0</th>\n",
       "      <th>poly_1</th>\n",
       "      <th>poly_2</th>\n",
       "    </tr>\n",
       "  </thead>\n",
       "  <tbody>\n",
       "    <tr>\n",
       "      <th>0</th>\n",
       "      <td>2</td>\n",
       "      <td>2</td>\n",
       "      <td>0.06</td>\n",
       "      <td>35</td>\n",
       "      <td>0</td>\n",
       "      <td>2</td>\n",
       "      <td>0</td>\n",
       "      <td>1</td>\n",
       "      <td>0</td>\n",
       "      <td>0</td>\n",
       "      <td>1</td>\n",
       "      <td>1</td>\n",
       "      <td>2.0</td>\n",
       "      <td>0.06</td>\n",
       "      <td>0.12</td>\n",
       "    </tr>\n",
       "    <tr>\n",
       "      <th>1</th>\n",
       "      <td>2</td>\n",
       "      <td>4</td>\n",
       "      <td>0.99</td>\n",
       "      <td>35</td>\n",
       "      <td>0</td>\n",
       "      <td>0</td>\n",
       "      <td>1</td>\n",
       "      <td>0</td>\n",
       "      <td>1</td>\n",
       "      <td>1</td>\n",
       "      <td>1</td>\n",
       "      <td>0</td>\n",
       "      <td>4.0</td>\n",
       "      <td>0.99</td>\n",
       "      <td>3.96</td>\n",
       "    </tr>\n",
       "    <tr>\n",
       "      <th>2</th>\n",
       "      <td>1</td>\n",
       "      <td>4</td>\n",
       "      <td>0.63</td>\n",
       "      <td>70</td>\n",
       "      <td>1</td>\n",
       "      <td>0</td>\n",
       "      <td>0</td>\n",
       "      <td>1</td>\n",
       "      <td>2</td>\n",
       "      <td>1</td>\n",
       "      <td>0</td>\n",
       "      <td>2</td>\n",
       "      <td>4.0</td>\n",
       "      <td>0.63</td>\n",
       "      <td>2.52</td>\n",
       "    </tr>\n",
       "    <tr>\n",
       "      <th>3</th>\n",
       "      <td>0</td>\n",
       "      <td>4</td>\n",
       "      <td>0.07</td>\n",
       "      <td>35</td>\n",
       "      <td>1</td>\n",
       "      <td>2</td>\n",
       "      <td>1</td>\n",
       "      <td>1</td>\n",
       "      <td>2</td>\n",
       "      <td>0</td>\n",
       "      <td>0</td>\n",
       "      <td>1</td>\n",
       "      <td>4.0</td>\n",
       "      <td>0.07</td>\n",
       "      <td>0.28</td>\n",
       "    </tr>\n",
       "    <tr>\n",
       "      <th>4</th>\n",
       "      <td>1</td>\n",
       "      <td>1</td>\n",
       "      <td>0.58</td>\n",
       "      <td>60</td>\n",
       "      <td>0</td>\n",
       "      <td>1</td>\n",
       "      <td>0</td>\n",
       "      <td>0</td>\n",
       "      <td>1</td>\n",
       "      <td>1</td>\n",
       "      <td>0</td>\n",
       "      <td>1</td>\n",
       "      <td>1.0</td>\n",
       "      <td>0.58</td>\n",
       "      <td>0.58</td>\n",
       "    </tr>\n",
       "    <tr>\n",
       "      <th>...</th>\n",
       "      <td>...</td>\n",
       "      <td>...</td>\n",
       "      <td>...</td>\n",
       "      <td>...</td>\n",
       "      <td>...</td>\n",
       "      <td>...</td>\n",
       "      <td>...</td>\n",
       "      <td>...</td>\n",
       "      <td>...</td>\n",
       "      <td>...</td>\n",
       "      <td>...</td>\n",
       "      <td>...</td>\n",
       "      <td>...</td>\n",
       "      <td>...</td>\n",
       "      <td>...</td>\n",
       "    </tr>\n",
       "    <tr>\n",
       "      <th>517749</th>\n",
       "      <td>0</td>\n",
       "      <td>4</td>\n",
       "      <td>0.10</td>\n",
       "      <td>70</td>\n",
       "      <td>0</td>\n",
       "      <td>1</td>\n",
       "      <td>1</td>\n",
       "      <td>1</td>\n",
       "      <td>0</td>\n",
       "      <td>0</td>\n",
       "      <td>0</td>\n",
       "      <td>2</td>\n",
       "      <td>4.0</td>\n",
       "      <td>0.10</td>\n",
       "      <td>0.40</td>\n",
       "    </tr>\n",
       "    <tr>\n",
       "      <th>517750</th>\n",
       "      <td>1</td>\n",
       "      <td>4</td>\n",
       "      <td>0.47</td>\n",
       "      <td>35</td>\n",
       "      <td>0</td>\n",
       "      <td>2</td>\n",
       "      <td>1</td>\n",
       "      <td>1</td>\n",
       "      <td>2</td>\n",
       "      <td>0</td>\n",
       "      <td>0</td>\n",
       "      <td>1</td>\n",
       "      <td>4.0</td>\n",
       "      <td>0.47</td>\n",
       "      <td>1.88</td>\n",
       "    </tr>\n",
       "    <tr>\n",
       "      <th>517751</th>\n",
       "      <td>2</td>\n",
       "      <td>4</td>\n",
       "      <td>0.62</td>\n",
       "      <td>25</td>\n",
       "      <td>0</td>\n",
       "      <td>1</td>\n",
       "      <td>0</td>\n",
       "      <td>0</td>\n",
       "      <td>0</td>\n",
       "      <td>0</td>\n",
       "      <td>1</td>\n",
       "      <td>0</td>\n",
       "      <td>4.0</td>\n",
       "      <td>0.62</td>\n",
       "      <td>2.48</td>\n",
       "    </tr>\n",
       "    <tr>\n",
       "      <th>517752</th>\n",
       "      <td>0</td>\n",
       "      <td>3</td>\n",
       "      <td>0.63</td>\n",
       "      <td>25</td>\n",
       "      <td>2</td>\n",
       "      <td>0</td>\n",
       "      <td>1</td>\n",
       "      <td>0</td>\n",
       "      <td>0</td>\n",
       "      <td>1</td>\n",
       "      <td>1</td>\n",
       "      <td>3</td>\n",
       "      <td>3.0</td>\n",
       "      <td>0.63</td>\n",
       "      <td>1.89</td>\n",
       "    </tr>\n",
       "    <tr>\n",
       "      <th>517753</th>\n",
       "      <td>0</td>\n",
       "      <td>2</td>\n",
       "      <td>0.31</td>\n",
       "      <td>45</td>\n",
       "      <td>1</td>\n",
       "      <td>2</td>\n",
       "      <td>0</td>\n",
       "      <td>1</td>\n",
       "      <td>0</td>\n",
       "      <td>1</td>\n",
       "      <td>1</td>\n",
       "      <td>2</td>\n",
       "      <td>2.0</td>\n",
       "      <td>0.31</td>\n",
       "      <td>0.62</td>\n",
       "    </tr>\n",
       "  </tbody>\n",
       "</table>\n",
       "<p>517754 rows × 15 columns</p>\n",
       "</div>"
      ],
      "text/plain": [
       "        road_type  num_lanes  curvature  speed_limit  lighting  weather  \\\n",
       "0               2          2       0.06           35         0        2   \n",
       "1               2          4       0.99           35         0        0   \n",
       "2               1          4       0.63           70         1        0   \n",
       "3               0          4       0.07           35         1        2   \n",
       "4               1          1       0.58           60         0        1   \n",
       "...           ...        ...        ...          ...       ...      ...   \n",
       "517749          0          4       0.10           70         0        1   \n",
       "517750          1          4       0.47           35         0        2   \n",
       "517751          2          4       0.62           25         0        1   \n",
       "517752          0          3       0.63           25         2        0   \n",
       "517753          0          2       0.31           45         1        2   \n",
       "\n",
       "        road_signs_present  public_road  time_of_day  holiday  school_season  \\\n",
       "0                        0            1            0        0              1   \n",
       "1                        1            0            1        1              1   \n",
       "2                        0            1            2        1              0   \n",
       "3                        1            1            2        0              0   \n",
       "4                        0            0            1        1              0   \n",
       "...                    ...          ...          ...      ...            ...   \n",
       "517749                   1            1            0        0              0   \n",
       "517750                   1            1            2        0              0   \n",
       "517751                   0            0            0        0              1   \n",
       "517752                   1            0            0        1              1   \n",
       "517753                   0            1            0        1              1   \n",
       "\n",
       "        num_reported_accidents  poly_0  poly_1  poly_2  \n",
       "0                            1     2.0    0.06    0.12  \n",
       "1                            0     4.0    0.99    3.96  \n",
       "2                            2     4.0    0.63    2.52  \n",
       "3                            1     4.0    0.07    0.28  \n",
       "4                            1     1.0    0.58    0.58  \n",
       "...                        ...     ...     ...     ...  \n",
       "517749                       2     4.0    0.10    0.40  \n",
       "517750                       1     4.0    0.47    1.88  \n",
       "517751                       0     4.0    0.62    2.48  \n",
       "517752                       3     3.0    0.63    1.89  \n",
       "517753                       2     2.0    0.31    0.62  \n",
       "\n",
       "[517754 rows x 15 columns]"
      ]
     },
     "execution_count": 12,
     "metadata": {},
     "output_type": "execute_result"
    }
   ],
   "source": [
    "preprocess_train"
   ]
  },
  {
   "cell_type": "code",
   "execution_count": 13,
   "id": "306fe4fa",
   "metadata": {
    "execution": {
     "iopub.execute_input": "2025-10-22T17:42:45.717028Z",
     "iopub.status.busy": "2025-10-22T17:42:45.716692Z",
     "iopub.status.idle": "2025-10-22T17:42:46.180626Z",
     "shell.execute_reply": "2025-10-22T17:42:46.179794Z"
    },
    "papermill": {
     "duration": 0.472553,
     "end_time": "2025-10-22T17:42:46.182339",
     "exception": false,
     "start_time": "2025-10-22T17:42:45.709786",
     "status": "completed"
    },
    "tags": []
   },
   "outputs": [],
   "source": [
    "from sklearn.pipeline import Pipeline\n",
    "from sklearn.impute import SimpleImputer\n",
    "from sklearn.model_selection import cross_val_score\n",
    "from xgboost import XGBRegressor\n",
    "def get_score(n_estimators):\n",
    "    \"\"\"Return the average MAE over 5 CV folds of XGBRegressor model.\n",
    "    \n",
    "    Keyword argument:\n",
    "    n_estimators -- the number of trees in the forest\n",
    "    \"\"\"\n",
    "    my_pipeline = Pipeline(steps=[\n",
    "        ('preprocessor', SimpleImputer(strategy='median')),# more robust to outliers\n",
    "        ('model', XGBRegressor(n_estimators=n_estimators, learning_rate=0.05) )\n",
    "    ])\n",
    "    scores = -1 * cross_val_score(my_pipeline, X_train_final, y_train_fianl,\n",
    "                              cv=5,\n",
    "                              scoring='neg_mean_absolute_error')\n",
    "    cv_mae = scores.mean()\n",
    "\n",
    "     # Fit on full training set\n",
    "    my_pipeline.fit(X_train_final, y_train_fianl)\n",
    "    \n",
    "    # Validation score\n",
    "    valid_preds = my_pipeline.predict(X_valid)\n",
    "    valid_mae = mean_absolute_error(y_valid, valid_preds)\n",
    "    \n",
    "    #print(f\"CV MAE: {cv_mae:.4f}\")\n",
    "    #print(f\"Validation MAE: {valid_mae:.4f}\")\n",
    "\n",
    "    return cv_mae, valid_mae"
   ]
  },
  {
   "cell_type": "code",
   "execution_count": 14,
   "id": "e543877d",
   "metadata": {
    "execution": {
     "iopub.execute_input": "2025-10-22T17:42:46.193312Z",
     "iopub.status.busy": "2025-10-22T17:42:46.192968Z",
     "iopub.status.idle": "2025-10-22T17:42:47.000003Z",
     "shell.execute_reply": "2025-10-22T17:42:46.999076Z"
    },
    "papermill": {
     "duration": 0.814467,
     "end_time": "2025-10-22T17:42:47.001798",
     "exception": false,
     "start_time": "2025-10-22T17:42:46.187331",
     "status": "completed"
    },
    "tags": []
   },
   "outputs": [],
   "source": [
    "train_data = preprocess_dataframe(train,drop_cols=['id'])\n",
    "test_data_id = test['id']\n",
    "test_data = preprocess_dataframe(test,drop_cols=['id'])"
   ]
  },
  {
   "cell_type": "code",
   "execution_count": 15,
   "id": "15d593be",
   "metadata": {
    "execution": {
     "iopub.execute_input": "2025-10-22T17:42:47.014002Z",
     "iopub.status.busy": "2025-10-22T17:42:47.013692Z",
     "iopub.status.idle": "2025-10-22T17:42:47.100332Z",
     "shell.execute_reply": "2025-10-22T17:42:47.099142Z"
    },
    "papermill": {
     "duration": 0.095563,
     "end_time": "2025-10-22T17:42:47.102951",
     "exception": false,
     "start_time": "2025-10-22T17:42:47.007388",
     "status": "completed"
    },
    "tags": []
   },
   "outputs": [],
   "source": [
    "train_x = train_data.drop(['accident_risk'] , axis=1)\n",
    "train_y = train_data['accident_risk']"
   ]
  },
  {
   "cell_type": "code",
   "execution_count": 16,
   "id": "669eb647",
   "metadata": {
    "execution": {
     "iopub.execute_input": "2025-10-22T17:42:47.119726Z",
     "iopub.status.busy": "2025-10-22T17:42:47.118992Z",
     "iopub.status.idle": "2025-10-22T17:42:47.359304Z",
     "shell.execute_reply": "2025-10-22T17:42:47.358031Z"
    },
    "papermill": {
     "duration": 0.249877,
     "end_time": "2025-10-22T17:42:47.361564",
     "exception": false,
     "start_time": "2025-10-22T17:42:47.111687",
     "status": "completed"
    },
    "tags": []
   },
   "outputs": [],
   "source": [
    "X_train_final, X_valid, y_train_fianl, y_valid = train_test_split(train_x, train_y, train_size=0.8, test_size=0.2,random_state=0)"
   ]
  },
  {
   "cell_type": "code",
   "execution_count": 17,
   "id": "8ac7ec56",
   "metadata": {
    "execution": {
     "iopub.execute_input": "2025-10-22T17:42:47.376155Z",
     "iopub.status.busy": "2025-10-22T17:42:47.375855Z",
     "iopub.status.idle": "2025-10-22T17:42:49.910235Z",
     "shell.execute_reply": "2025-10-22T17:42:49.909250Z"
    },
    "papermill": {
     "duration": 2.543183,
     "end_time": "2025-10-22T17:42:49.911831",
     "exception": false,
     "start_time": "2025-10-22T17:42:47.368648",
     "status": "completed"
    },
    "tags": []
   },
   "outputs": [
    {
     "name": "stdout",
     "output_type": "stream",
     "text": [
      "Mean Absolute Error: 0.043783416263957355\n"
     ]
    }
   ],
   "source": [
    "# Define the model\n",
    "my_model_1 = XGBRegressor(n_estimators=100, learning_rate=0.05) \n",
    "\n",
    "# Fit the model\n",
    "my_model_1.fit(X_train_final, y_train_fianl)\n",
    "\n",
    "# Get predictions\n",
    "predictions_1 = my_model_1.predict(X_valid)\n",
    "\n",
    "# Calculate MAE\n",
    "mae_1 =  mean_absolute_error(predictions_1, y_valid)\n",
    "\n",
    "# Uncomment to print MAE\n",
    "print(\"Mean Absolute Error:\" , mae_1)"
   ]
  },
  {
   "cell_type": "code",
   "execution_count": 18,
   "id": "f61d3964",
   "metadata": {
    "execution": {
     "iopub.execute_input": "2025-10-22T17:42:49.923034Z",
     "iopub.status.busy": "2025-10-22T17:42:49.922362Z",
     "iopub.status.idle": "2025-10-22T17:42:54.135768Z",
     "shell.execute_reply": "2025-10-22T17:42:54.135039Z"
    },
    "papermill": {
     "duration": 4.220635,
     "end_time": "2025-10-22T17:42:54.137356",
     "exception": false,
     "start_time": "2025-10-22T17:42:49.916721",
     "status": "completed"
    },
    "tags": []
   },
   "outputs": [
    {
     "name": "stdout",
     "output_type": "stream",
     "text": [
      "Mean Absolute Error: 0.04365485480053972\n"
     ]
    }
   ],
   "source": [
    "# Define the model\n",
    "my_model_2 = XGBRegressor(n_estimators=200, learning_rate=0.05) \n",
    "\n",
    "# Fit the model\n",
    "my_model_2.fit(X_train_final, y_train_fianl)\n",
    "\n",
    "# Get predictions\n",
    "predictions_2 = my_model_2.predict(X_valid)\n",
    "\n",
    "# Calculate MAE\n",
    "mae_2 =  mean_absolute_error(predictions_2, y_valid)\n",
    "\n",
    "# Uncomment to print MAE\n",
    "print(\"Mean Absolute Error:\" , mae_2)"
   ]
  },
  {
   "cell_type": "code",
   "execution_count": 19,
   "id": "cdd860ec",
   "metadata": {
    "execution": {
     "iopub.execute_input": "2025-10-22T17:42:54.151242Z",
     "iopub.status.busy": "2025-10-22T17:42:54.150897Z",
     "iopub.status.idle": "2025-10-22T17:42:59.892221Z",
     "shell.execute_reply": "2025-10-22T17:42:59.891236Z"
    },
    "papermill": {
     "duration": 5.750049,
     "end_time": "2025-10-22T17:42:59.893675",
     "exception": false,
     "start_time": "2025-10-22T17:42:54.143626",
     "status": "completed"
    },
    "tags": []
   },
   "outputs": [
    {
     "name": "stdout",
     "output_type": "stream",
     "text": [
      "Mean Absolute Error: 0.043628712064681184\n"
     ]
    }
   ],
   "source": [
    "# Define the model\n",
    "my_model_3 = XGBRegressor(n_estimators=300, learning_rate=0.05) \n",
    "\n",
    "# Fit the model\n",
    "my_model_3.fit(X_train_final, y_train_fianl)\n",
    "\n",
    "# Get predictions\n",
    "predictions_3 = my_model_3.predict(X_valid)\n",
    "\n",
    "# Calculate MAE\n",
    "mae_3 =  mean_absolute_error(predictions_3, y_valid)\n",
    "\n",
    "# Uncomment to print MAE\n",
    "print(\"Mean Absolute Error:\" , mae_3)"
   ]
  },
  {
   "cell_type": "code",
   "execution_count": 20,
   "id": "5a18736d",
   "metadata": {
    "execution": {
     "iopub.execute_input": "2025-10-22T17:42:59.909309Z",
     "iopub.status.busy": "2025-10-22T17:42:59.908679Z",
     "iopub.status.idle": "2025-10-22T17:43:00.455112Z",
     "shell.execute_reply": "2025-10-22T17:43:00.454252Z"
    },
    "papermill": {
     "duration": 0.554713,
     "end_time": "2025-10-22T17:43:00.456933",
     "exception": false,
     "start_time": "2025-10-22T17:42:59.902220",
     "status": "completed"
    },
    "tags": []
   },
   "outputs": [],
   "source": [
    "final_preds = np.round(my_model_3.predict(test_data),3)"
   ]
  },
  {
   "cell_type": "code",
   "execution_count": 21,
   "id": "ddba5a3d",
   "metadata": {
    "execution": {
     "iopub.execute_input": "2025-10-22T17:43:00.468136Z",
     "iopub.status.busy": "2025-10-22T17:43:00.467862Z",
     "iopub.status.idle": "2025-10-22T17:43:00.473652Z",
     "shell.execute_reply": "2025-10-22T17:43:00.472468Z"
    },
    "papermill": {
     "duration": 0.013357,
     "end_time": "2025-10-22T17:43:00.475257",
     "exception": false,
     "start_time": "2025-10-22T17:43:00.461900",
     "status": "completed"
    },
    "tags": []
   },
   "outputs": [
    {
     "name": "stdout",
     "output_type": "stream",
     "text": [
      "[0.293 0.124 0.187 ... 0.253 0.127 0.487]\n"
     ]
    }
   ],
   "source": [
    "print(final_preds)"
   ]
  },
  {
   "cell_type": "code",
   "execution_count": 22,
   "id": "2221a4a1",
   "metadata": {
    "execution": {
     "iopub.execute_input": "2025-10-22T17:43:00.487169Z",
     "iopub.status.busy": "2025-10-22T17:43:00.486857Z",
     "iopub.status.idle": "2025-10-22T17:43:00.729509Z",
     "shell.execute_reply": "2025-10-22T17:43:00.728557Z"
    },
    "papermill": {
     "duration": 0.250305,
     "end_time": "2025-10-22T17:43:00.730986",
     "exception": false,
     "start_time": "2025-10-22T17:43:00.480681",
     "status": "completed"
    },
    "tags": []
   },
   "outputs": [
    {
     "data": {
      "text/html": [
       "<div>\n",
       "<style scoped>\n",
       "    .dataframe tbody tr th:only-of-type {\n",
       "        vertical-align: middle;\n",
       "    }\n",
       "\n",
       "    .dataframe tbody tr th {\n",
       "        vertical-align: top;\n",
       "    }\n",
       "\n",
       "    .dataframe thead th {\n",
       "        text-align: right;\n",
       "    }\n",
       "</style>\n",
       "<table border=\"1\" class=\"dataframe\">\n",
       "  <thead>\n",
       "    <tr style=\"text-align: right;\">\n",
       "      <th></th>\n",
       "      <th>id</th>\n",
       "      <th>accident_risk</th>\n",
       "    </tr>\n",
       "  </thead>\n",
       "  <tbody>\n",
       "    <tr>\n",
       "      <th>0</th>\n",
       "      <td>517754</td>\n",
       "      <td>0.293</td>\n",
       "    </tr>\n",
       "    <tr>\n",
       "      <th>1</th>\n",
       "      <td>517755</td>\n",
       "      <td>0.124</td>\n",
       "    </tr>\n",
       "    <tr>\n",
       "      <th>2</th>\n",
       "      <td>517756</td>\n",
       "      <td>0.187</td>\n",
       "    </tr>\n",
       "    <tr>\n",
       "      <th>3</th>\n",
       "      <td>517757</td>\n",
       "      <td>0.321</td>\n",
       "    </tr>\n",
       "    <tr>\n",
       "      <th>4</th>\n",
       "      <td>517758</td>\n",
       "      <td>0.405</td>\n",
       "    </tr>\n",
       "  </tbody>\n",
       "</table>\n",
       "</div>"
      ],
      "text/plain": [
       "       id  accident_risk\n",
       "0  517754          0.293\n",
       "1  517755          0.124\n",
       "2  517756          0.187\n",
       "3  517757          0.321\n",
       "4  517758          0.405"
      ]
     },
     "metadata": {},
     "output_type": "display_data"
    }
   ],
   "source": [
    "submission = pd.DataFrame({'id': test_data_id, 'accident_risk': final_preds})\n",
    "submission.to_csv('submission.csv', index=False)\n",
    "display(submission.head())"
   ]
  },
  {
   "cell_type": "code",
   "execution_count": null,
   "id": "ae1c305a",
   "metadata": {
    "papermill": {
     "duration": 0.004804,
     "end_time": "2025-10-22T17:43:00.741070",
     "exception": false,
     "start_time": "2025-10-22T17:43:00.736266",
     "status": "completed"
    },
    "tags": []
   },
   "outputs": [],
   "source": []
  }
 ],
 "metadata": {
  "kaggle": {
   "accelerator": "none",
   "dataSources": [
    {
     "databundleVersionId": 13760552,
     "sourceId": 91721,
     "sourceType": "competition"
    }
   ],
   "dockerImageVersionId": 31153,
   "isGpuEnabled": false,
   "isInternetEnabled": false,
   "language": "python",
   "sourceType": "notebook"
  },
  "kernelspec": {
   "display_name": "Python 3",
   "language": "python",
   "name": "python3"
  },
  "language_info": {
   "codemirror_mode": {
    "name": "ipython",
    "version": 3
   },
   "file_extension": ".py",
   "mimetype": "text/x-python",
   "name": "python",
   "nbconvert_exporter": "python",
   "pygments_lexer": "ipython3",
   "version": "3.11.13"
  },
  "papermill": {
   "default_parameters": {},
   "duration": 35.846282,
   "end_time": "2025-10-22T17:43:01.768980",
   "environment_variables": {},
   "exception": null,
   "input_path": "__notebook__.ipynb",
   "output_path": "__notebook__.ipynb",
   "parameters": {},
   "start_time": "2025-10-22T17:42:25.922698",
   "version": "2.6.0"
  }
 },
 "nbformat": 4,
 "nbformat_minor": 5
}
