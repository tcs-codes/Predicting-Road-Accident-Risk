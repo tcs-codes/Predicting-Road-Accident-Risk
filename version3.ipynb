{
 "cells": [
  {
   "cell_type": "code",
   "execution_count": 1,
   "id": "25d9628a",
   "metadata": {
    "_cell_guid": "b1076dfc-b9ad-4769-8c92-a6c4dae69d19",
    "_uuid": "8f2839f25d086af736a60e9eeb907d3b93b6e0e5",
    "execution": {
     "iopub.execute_input": "2025-10-23T04:18:07.794687Z",
     "iopub.status.busy": "2025-10-23T04:18:07.794225Z",
     "iopub.status.idle": "2025-10-23T04:18:11.308958Z",
     "shell.execute_reply": "2025-10-23T04:18:11.307889Z"
    },
    "papermill": {
     "duration": 3.525719,
     "end_time": "2025-10-23T04:18:11.311024",
     "exception": false,
     "start_time": "2025-10-23T04:18:07.785305",
     "status": "completed"
    },
    "tags": []
   },
   "outputs": [],
   "source": [
    "import pandas as pd\n",
    "import numpy as np\n",
    "from sklearn.metrics import mean_squared_error\n",
    "from sklearn.metrics import mean_absolute_error\n",
    "from sklearn.model_selection import train_test_split"
   ]
  },
  {
   "cell_type": "code",
   "execution_count": 2,
   "id": "3f21ee28",
   "metadata": {
    "execution": {
     "iopub.execute_input": "2025-10-23T04:18:11.320805Z",
     "iopub.status.busy": "2025-10-23T04:18:11.320150Z",
     "iopub.status.idle": "2025-10-23T04:18:11.583210Z",
     "shell.execute_reply": "2025-10-23T04:18:11.582295Z"
    },
    "papermill": {
     "duration": 0.269784,
     "end_time": "2025-10-23T04:18:11.585119",
     "exception": false,
     "start_time": "2025-10-23T04:18:11.315335",
     "status": "completed"
    },
    "tags": []
   },
   "outputs": [],
   "source": [
    "# Import xgboost\n",
    "import xgboost as xgb"
   ]
  },
  {
   "cell_type": "code",
   "execution_count": 3,
   "id": "7cc857a5",
   "metadata": {
    "execution": {
     "iopub.execute_input": "2025-10-23T04:18:11.595348Z",
     "iopub.status.busy": "2025-10-23T04:18:11.594304Z",
     "iopub.status.idle": "2025-10-23T04:18:13.139638Z",
     "shell.execute_reply": "2025-10-23T04:18:13.138334Z"
    },
    "papermill": {
     "duration": 1.552335,
     "end_time": "2025-10-23T04:18:13.141628",
     "exception": false,
     "start_time": "2025-10-23T04:18:11.589293",
     "status": "completed"
    },
    "tags": []
   },
   "outputs": [],
   "source": [
    "train = pd.read_csv('/kaggle/input/playground-series-s5e10/train.csv')\n",
    "test = pd.read_csv('/kaggle/input/playground-series-s5e10/test.csv')\n",
    "sample_submission = pd.read_csv('/kaggle/input/playground-series-s5e10/sample_submission.csv')  "
   ]
  },
  {
   "cell_type": "code",
   "execution_count": 4,
   "id": "75965d62",
   "metadata": {
    "execution": {
     "iopub.execute_input": "2025-10-23T04:18:13.152933Z",
     "iopub.status.busy": "2025-10-23T04:18:13.151367Z",
     "iopub.status.idle": "2025-10-23T04:18:13.176931Z",
     "shell.execute_reply": "2025-10-23T04:18:13.175565Z"
    },
    "papermill": {
     "duration": 0.032438,
     "end_time": "2025-10-23T04:18:13.178931",
     "exception": false,
     "start_time": "2025-10-23T04:18:13.146493",
     "status": "completed"
    },
    "tags": []
   },
   "outputs": [
    {
     "name": "stdout",
     "output_type": "stream",
     "text": [
      "______________Train data______________\n",
      "   id road_type  num_lanes  curvature  speed_limit  lighting weather  \\\n",
      "0   0     urban          2       0.06           35  daylight   rainy   \n",
      "1   1     urban          4       0.99           35  daylight   clear   \n",
      "2   2     rural          4       0.63           70       dim   clear   \n",
      "3   3   highway          4       0.07           35       dim   rainy   \n",
      "4   4     rural          1       0.58           60  daylight   foggy   \n",
      "\n",
      "   road_signs_present  public_road time_of_day  holiday  school_season  \\\n",
      "0               False         True   afternoon    False           True   \n",
      "1                True        False     evening     True           True   \n",
      "2               False         True     morning     True          False   \n",
      "3                True         True     morning    False          False   \n",
      "4               False        False     evening     True          False   \n",
      "\n",
      "   num_reported_accidents  accident_risk  \n",
      "0                       1           0.13  \n",
      "1                       0           0.35  \n",
      "2                       2           0.30  \n",
      "3                       1           0.21  \n",
      "4                       1           0.56  \n",
      "______________Test data______________\n",
      "       id road_type  num_lanes  curvature  speed_limit  lighting weather  \\\n",
      "0  517754   highway          2       0.34           45     night   clear   \n",
      "1  517755     urban          3       0.04           45       dim   foggy   \n",
      "2  517756     urban          2       0.59           35       dim   clear   \n",
      "3  517757     rural          4       0.95           35  daylight   rainy   \n",
      "4  517758   highway          2       0.86           35  daylight   clear   \n",
      "\n",
      "   road_signs_present  public_road time_of_day  holiday  school_season  \\\n",
      "0                True         True   afternoon     True           True   \n",
      "1                True        False   afternoon     True          False   \n",
      "2                True        False   afternoon     True           True   \n",
      "3               False        False   afternoon    False          False   \n",
      "4                True        False     evening    False           True   \n",
      "\n",
      "   num_reported_accidents  \n",
      "0                       1  \n",
      "1                       0  \n",
      "2                       1  \n",
      "3                       2  \n",
      "4                       3  \n",
      "       id  accident_risk\n",
      "0  517754          0.352\n",
      "1  517755          0.352\n",
      "2  517756          0.352\n",
      "3  517757          0.352\n",
      "4  517758          0.352\n"
     ]
    }
   ],
   "source": [
    "print(\"______________Train data______________\")\n",
    "print(train.head())\n",
    "print(\"______________Test data______________\")\n",
    "print(test.head())\n",
    "print(sample_submission.head())"
   ]
  },
  {
   "cell_type": "code",
   "execution_count": 5,
   "id": "4eca7062",
   "metadata": {
    "execution": {
     "iopub.execute_input": "2025-10-23T04:18:13.188452Z",
     "iopub.status.busy": "2025-10-23T04:18:13.188095Z",
     "iopub.status.idle": "2025-10-23T04:18:13.194213Z",
     "shell.execute_reply": "2025-10-23T04:18:13.193013Z"
    },
    "papermill": {
     "duration": 0.01299,
     "end_time": "2025-10-23T04:18:13.196059",
     "exception": false,
     "start_time": "2025-10-23T04:18:13.183069",
     "status": "completed"
    },
    "tags": []
   },
   "outputs": [
    {
     "name": "stdout",
     "output_type": "stream",
     "text": [
      "Train data shape\n",
      "(517754, 14)\n",
      "Test data shape\n",
      "(172585, 13)\n",
      "sample_submission data shape\n",
      "(172585, 2)\n"
     ]
    }
   ],
   "source": [
    "# Display information about the datasets\n",
    "print(\"Train data shape\")\n",
    "print(train.shape)\n",
    "print(\"Test data shape\")\n",
    "print(test.shape)\n",
    "print(\"sample_submission data shape\")\n",
    "print(sample_submission.shape)"
   ]
  },
  {
   "cell_type": "code",
   "execution_count": 6,
   "id": "cbbf2424",
   "metadata": {
    "execution": {
     "iopub.execute_input": "2025-10-23T04:18:13.205876Z",
     "iopub.status.busy": "2025-10-23T04:18:13.205379Z",
     "iopub.status.idle": "2025-10-23T04:18:13.242371Z",
     "shell.execute_reply": "2025-10-23T04:18:13.241380Z"
    },
    "papermill": {
     "duration": 0.043729,
     "end_time": "2025-10-23T04:18:13.243942",
     "exception": false,
     "start_time": "2025-10-23T04:18:13.200213",
     "status": "completed"
    },
    "tags": []
   },
   "outputs": [
    {
     "name": "stdout",
     "output_type": "stream",
     "text": [
      "count    517754.000000\n",
      "mean          0.352377\n",
      "std           0.166417\n",
      "min           0.000000\n",
      "25%           0.230000\n",
      "50%           0.340000\n",
      "75%           0.460000\n",
      "max           1.000000\n",
      "Name: accident_risk, dtype: float64\n"
     ]
    }
   ],
   "source": [
    "# basic statistics\n",
    "print(train['accident_risk'].describe())"
   ]
  },
  {
   "cell_type": "code",
   "execution_count": 7,
   "id": "19c63f4a",
   "metadata": {
    "execution": {
     "iopub.execute_input": "2025-10-23T04:18:13.252934Z",
     "iopub.status.busy": "2025-10-23T04:18:13.252601Z",
     "iopub.status.idle": "2025-10-23T04:18:13.367235Z",
     "shell.execute_reply": "2025-10-23T04:18:13.366189Z"
    },
    "papermill": {
     "duration": 0.121314,
     "end_time": "2025-10-23T04:18:13.369120",
     "exception": false,
     "start_time": "2025-10-23T04:18:13.247806",
     "status": "completed"
    },
    "tags": []
   },
   "outputs": [
    {
     "data": {
      "text/plain": [
       "id                        0\n",
       "road_type                 0\n",
       "num_lanes                 0\n",
       "curvature                 0\n",
       "speed_limit               0\n",
       "lighting                  0\n",
       "weather                   0\n",
       "road_signs_present        0\n",
       "public_road               0\n",
       "time_of_day               0\n",
       "holiday                   0\n",
       "school_season             0\n",
       "num_reported_accidents    0\n",
       "accident_risk             0\n",
       "dtype: int64"
      ]
     },
     "execution_count": 7,
     "metadata": {},
     "output_type": "execute_result"
    }
   ],
   "source": [
    "# check for missing data\n",
    "train.isnull().sum()"
   ]
  },
  {
   "cell_type": "code",
   "execution_count": 8,
   "id": "ea848630",
   "metadata": {
    "execution": {
     "iopub.execute_input": "2025-10-23T04:18:13.379709Z",
     "iopub.status.busy": "2025-10-23T04:18:13.378516Z",
     "iopub.status.idle": "2025-10-23T04:18:13.775562Z",
     "shell.execute_reply": "2025-10-23T04:18:13.774277Z"
    },
    "papermill": {
     "duration": 0.404335,
     "end_time": "2025-10-23T04:18:13.777649",
     "exception": false,
     "start_time": "2025-10-23T04:18:13.373314",
     "status": "completed"
    },
    "tags": []
   },
   "outputs": [],
   "source": [
    "#road_type,lighting ,weather,time_of_day need to be encoded with \"Label Encoding\"\n",
    "\n",
    "from sklearn.preprocessing import LabelEncoder\n",
    "\n",
    "encoder = LabelEncoder()\n",
    "road_type_encoded = encoder.fit_transform(train[\"road_type\"])\n",
    "lighting_encoded = encoder.fit_transform(train[\"lighting\"])\n",
    "weather_encoded = encoder.fit_transform(train[\"weather\"])\n",
    "time_of_day_encoded = encoder.fit_transform(train[\"time_of_day\"])"
   ]
  },
  {
   "cell_type": "code",
   "execution_count": 9,
   "id": "0b2f3564",
   "metadata": {
    "execution": {
     "iopub.execute_input": "2025-10-23T04:18:13.787145Z",
     "iopub.status.busy": "2025-10-23T04:18:13.786855Z",
     "iopub.status.idle": "2025-10-23T04:18:14.082799Z",
     "shell.execute_reply": "2025-10-23T04:18:14.081711Z"
    },
    "papermill": {
     "duration": 0.302801,
     "end_time": "2025-10-23T04:18:14.084619",
     "exception": false,
     "start_time": "2025-10-23T04:18:13.781818",
     "status": "completed"
    },
    "tags": []
   },
   "outputs": [],
   "source": [
    "#road_signs_present,public_road,holiday,school_season need to be encoded with \"One-Hot Encoding\"\n",
    "# True = 1, False = 0\n",
    "road_signs_present_encoded = [int(x) for x in train[\"road_signs_present\"]]  \n",
    "public_road_encoded = [int(x) for x in train[\"public_road\"]]  \n",
    "holiday_encoded = [int(x) for x in train[\"holiday\"]]  \n",
    "school_season_encoded = [int(x) for x in train[\"school_season\"]]  "
   ]
  },
  {
   "cell_type": "code",
   "execution_count": 10,
   "id": "a9273fd6",
   "metadata": {
    "execution": {
     "iopub.execute_input": "2025-10-23T04:18:14.094454Z",
     "iopub.status.busy": "2025-10-23T04:18:14.094086Z",
     "iopub.status.idle": "2025-10-23T04:18:14.104911Z",
     "shell.execute_reply": "2025-10-23T04:18:14.103742Z"
    },
    "papermill": {
     "duration": 0.017686,
     "end_time": "2025-10-23T04:18:14.106455",
     "exception": false,
     "start_time": "2025-10-23T04:18:14.088769",
     "status": "completed"
    },
    "tags": []
   },
   "outputs": [
    {
     "name": "stdout",
     "output_type": "stream",
     "text": [
      "   id road_type  num_lanes  curvature  speed_limit  lighting weather  \\\n",
      "0   0     urban          2       0.06           35  daylight   rainy   \n",
      "1   1     urban          4       0.99           35  daylight   clear   \n",
      "2   2     rural          4       0.63           70       dim   clear   \n",
      "3   3   highway          4       0.07           35       dim   rainy   \n",
      "4   4     rural          1       0.58           60  daylight   foggy   \n",
      "\n",
      "   road_signs_present  public_road time_of_day  holiday  school_season  \\\n",
      "0               False         True   afternoon    False           True   \n",
      "1                True        False     evening     True           True   \n",
      "2               False         True     morning     True          False   \n",
      "3                True         True     morning    False          False   \n",
      "4               False        False     evening     True          False   \n",
      "\n",
      "   num_reported_accidents  accident_risk  \n",
      "0                       1           0.13  \n",
      "1                       0           0.35  \n",
      "2                       2           0.30  \n",
      "3                       1           0.21  \n",
      "4                       1           0.56  \n"
     ]
    }
   ],
   "source": [
    "print(train.head())"
   ]
  },
  {
   "cell_type": "code",
   "execution_count": 11,
   "id": "aec8913d",
   "metadata": {
    "execution": {
     "iopub.execute_input": "2025-10-23T04:18:14.116518Z",
     "iopub.status.busy": "2025-10-23T04:18:14.116143Z",
     "iopub.status.idle": "2025-10-23T04:18:14.123936Z",
     "shell.execute_reply": "2025-10-23T04:18:14.122769Z"
    },
    "papermill": {
     "duration": 0.014676,
     "end_time": "2025-10-23T04:18:14.125499",
     "exception": false,
     "start_time": "2025-10-23T04:18:14.110823",
     "status": "completed"
    },
    "tags": []
   },
   "outputs": [],
   "source": [
    "from sklearn.preprocessing import PolynomialFeatures\n",
    "def preprocess_dataframe(df: pd.DataFrame, drop_cols: list = None) -> pd.DataFrame:\n",
    "    df = df.copy()\n",
    "\n",
    "    # Drop specified columns \n",
    "    if drop_cols:\n",
    "        df = df.drop(columns=drop_cols, errors='ignore')\n",
    "\n",
    "    # Encode boolean columns\n",
    "    bool_cols = df.select_dtypes(include='bool').columns\n",
    "    df[bool_cols] = df[bool_cols].astype(int)\n",
    "\n",
    "    # Label encode categorical columns\n",
    "    label_encoders = {}\n",
    "    for col in df.select_dtypes(include=['object', 'category']).columns:\n",
    "        le = LabelEncoder()\n",
    "        df[col] = le.fit_transform(df[col])\n",
    "        label_encoders[col] = le\n",
    "        \n",
    "    # Polynomial features\n",
    "    poly = PolynomialFeatures(degree=2, interaction_only=True, include_bias=False)\n",
    "    poly_features = poly.fit_transform(df[['num_lanes', 'curvature']])\n",
    "    poly_cols = [f'poly_{i}' for i in range(poly_features.shape[1])]\n",
    "    df[poly_cols] = poly_features\n",
    "\n",
    "    print(train.head())\n",
    "    \n",
    "    return df"
   ]
  },
  {
   "cell_type": "code",
   "execution_count": 12,
   "id": "fc47c77d",
   "metadata": {
    "execution": {
     "iopub.execute_input": "2025-10-23T04:18:14.135076Z",
     "iopub.status.busy": "2025-10-23T04:18:14.134764Z",
     "iopub.status.idle": "2025-10-23T04:18:14.667335Z",
     "shell.execute_reply": "2025-10-23T04:18:14.665870Z"
    },
    "papermill": {
     "duration": 0.540051,
     "end_time": "2025-10-23T04:18:14.669671",
     "exception": false,
     "start_time": "2025-10-23T04:18:14.129620",
     "status": "completed"
    },
    "tags": []
   },
   "outputs": [
    {
     "name": "stdout",
     "output_type": "stream",
     "text": [
      "   id road_type  num_lanes  curvature  speed_limit  lighting weather  \\\n",
      "0   0     urban          2       0.06           35  daylight   rainy   \n",
      "1   1     urban          4       0.99           35  daylight   clear   \n",
      "2   2     rural          4       0.63           70       dim   clear   \n",
      "3   3   highway          4       0.07           35       dim   rainy   \n",
      "4   4     rural          1       0.58           60  daylight   foggy   \n",
      "\n",
      "   road_signs_present  public_road time_of_day  holiday  school_season  \\\n",
      "0               False         True   afternoon    False           True   \n",
      "1                True        False     evening     True           True   \n",
      "2               False         True     morning     True          False   \n",
      "3                True         True     morning    False          False   \n",
      "4               False        False     evening     True          False   \n",
      "\n",
      "   num_reported_accidents  accident_risk  \n",
      "0                       1           0.13  \n",
      "1                       0           0.35  \n",
      "2                       2           0.30  \n",
      "3                       1           0.21  \n",
      "4                       1           0.56  \n"
     ]
    }
   ],
   "source": [
    "preprocess_train = preprocess_dataframe(train,drop_cols=['accident_risk','id'])"
   ]
  },
  {
   "cell_type": "code",
   "execution_count": 13,
   "id": "7c27379d",
   "metadata": {
    "execution": {
     "iopub.execute_input": "2025-10-23T04:18:14.682778Z",
     "iopub.status.busy": "2025-10-23T04:18:14.681731Z",
     "iopub.status.idle": "2025-10-23T04:18:14.719928Z",
     "shell.execute_reply": "2025-10-23T04:18:14.718780Z"
    },
    "papermill": {
     "duration": 0.046006,
     "end_time": "2025-10-23T04:18:14.721786",
     "exception": false,
     "start_time": "2025-10-23T04:18:14.675780",
     "status": "completed"
    },
    "tags": []
   },
   "outputs": [
    {
     "data": {
      "text/html": [
       "<div>\n",
       "<style scoped>\n",
       "    .dataframe tbody tr th:only-of-type {\n",
       "        vertical-align: middle;\n",
       "    }\n",
       "\n",
       "    .dataframe tbody tr th {\n",
       "        vertical-align: top;\n",
       "    }\n",
       "\n",
       "    .dataframe thead th {\n",
       "        text-align: right;\n",
       "    }\n",
       "</style>\n",
       "<table border=\"1\" class=\"dataframe\">\n",
       "  <thead>\n",
       "    <tr style=\"text-align: right;\">\n",
       "      <th></th>\n",
       "      <th>road_type</th>\n",
       "      <th>num_lanes</th>\n",
       "      <th>curvature</th>\n",
       "      <th>speed_limit</th>\n",
       "      <th>lighting</th>\n",
       "      <th>weather</th>\n",
       "      <th>road_signs_present</th>\n",
       "      <th>public_road</th>\n",
       "      <th>time_of_day</th>\n",
       "      <th>holiday</th>\n",
       "      <th>school_season</th>\n",
       "      <th>num_reported_accidents</th>\n",
       "      <th>poly_0</th>\n",
       "      <th>poly_1</th>\n",
       "      <th>poly_2</th>\n",
       "    </tr>\n",
       "  </thead>\n",
       "  <tbody>\n",
       "    <tr>\n",
       "      <th>0</th>\n",
       "      <td>2</td>\n",
       "      <td>2</td>\n",
       "      <td>0.06</td>\n",
       "      <td>35</td>\n",
       "      <td>0</td>\n",
       "      <td>2</td>\n",
       "      <td>0</td>\n",
       "      <td>1</td>\n",
       "      <td>0</td>\n",
       "      <td>0</td>\n",
       "      <td>1</td>\n",
       "      <td>1</td>\n",
       "      <td>2.0</td>\n",
       "      <td>0.06</td>\n",
       "      <td>0.12</td>\n",
       "    </tr>\n",
       "    <tr>\n",
       "      <th>1</th>\n",
       "      <td>2</td>\n",
       "      <td>4</td>\n",
       "      <td>0.99</td>\n",
       "      <td>35</td>\n",
       "      <td>0</td>\n",
       "      <td>0</td>\n",
       "      <td>1</td>\n",
       "      <td>0</td>\n",
       "      <td>1</td>\n",
       "      <td>1</td>\n",
       "      <td>1</td>\n",
       "      <td>0</td>\n",
       "      <td>4.0</td>\n",
       "      <td>0.99</td>\n",
       "      <td>3.96</td>\n",
       "    </tr>\n",
       "    <tr>\n",
       "      <th>2</th>\n",
       "      <td>1</td>\n",
       "      <td>4</td>\n",
       "      <td>0.63</td>\n",
       "      <td>70</td>\n",
       "      <td>1</td>\n",
       "      <td>0</td>\n",
       "      <td>0</td>\n",
       "      <td>1</td>\n",
       "      <td>2</td>\n",
       "      <td>1</td>\n",
       "      <td>0</td>\n",
       "      <td>2</td>\n",
       "      <td>4.0</td>\n",
       "      <td>0.63</td>\n",
       "      <td>2.52</td>\n",
       "    </tr>\n",
       "    <tr>\n",
       "      <th>3</th>\n",
       "      <td>0</td>\n",
       "      <td>4</td>\n",
       "      <td>0.07</td>\n",
       "      <td>35</td>\n",
       "      <td>1</td>\n",
       "      <td>2</td>\n",
       "      <td>1</td>\n",
       "      <td>1</td>\n",
       "      <td>2</td>\n",
       "      <td>0</td>\n",
       "      <td>0</td>\n",
       "      <td>1</td>\n",
       "      <td>4.0</td>\n",
       "      <td>0.07</td>\n",
       "      <td>0.28</td>\n",
       "    </tr>\n",
       "    <tr>\n",
       "      <th>4</th>\n",
       "      <td>1</td>\n",
       "      <td>1</td>\n",
       "      <td>0.58</td>\n",
       "      <td>60</td>\n",
       "      <td>0</td>\n",
       "      <td>1</td>\n",
       "      <td>0</td>\n",
       "      <td>0</td>\n",
       "      <td>1</td>\n",
       "      <td>1</td>\n",
       "      <td>0</td>\n",
       "      <td>1</td>\n",
       "      <td>1.0</td>\n",
       "      <td>0.58</td>\n",
       "      <td>0.58</td>\n",
       "    </tr>\n",
       "    <tr>\n",
       "      <th>...</th>\n",
       "      <td>...</td>\n",
       "      <td>...</td>\n",
       "      <td>...</td>\n",
       "      <td>...</td>\n",
       "      <td>...</td>\n",
       "      <td>...</td>\n",
       "      <td>...</td>\n",
       "      <td>...</td>\n",
       "      <td>...</td>\n",
       "      <td>...</td>\n",
       "      <td>...</td>\n",
       "      <td>...</td>\n",
       "      <td>...</td>\n",
       "      <td>...</td>\n",
       "      <td>...</td>\n",
       "    </tr>\n",
       "    <tr>\n",
       "      <th>517749</th>\n",
       "      <td>0</td>\n",
       "      <td>4</td>\n",
       "      <td>0.10</td>\n",
       "      <td>70</td>\n",
       "      <td>0</td>\n",
       "      <td>1</td>\n",
       "      <td>1</td>\n",
       "      <td>1</td>\n",
       "      <td>0</td>\n",
       "      <td>0</td>\n",
       "      <td>0</td>\n",
       "      <td>2</td>\n",
       "      <td>4.0</td>\n",
       "      <td>0.10</td>\n",
       "      <td>0.40</td>\n",
       "    </tr>\n",
       "    <tr>\n",
       "      <th>517750</th>\n",
       "      <td>1</td>\n",
       "      <td>4</td>\n",
       "      <td>0.47</td>\n",
       "      <td>35</td>\n",
       "      <td>0</td>\n",
       "      <td>2</td>\n",
       "      <td>1</td>\n",
       "      <td>1</td>\n",
       "      <td>2</td>\n",
       "      <td>0</td>\n",
       "      <td>0</td>\n",
       "      <td>1</td>\n",
       "      <td>4.0</td>\n",
       "      <td>0.47</td>\n",
       "      <td>1.88</td>\n",
       "    </tr>\n",
       "    <tr>\n",
       "      <th>517751</th>\n",
       "      <td>2</td>\n",
       "      <td>4</td>\n",
       "      <td>0.62</td>\n",
       "      <td>25</td>\n",
       "      <td>0</td>\n",
       "      <td>1</td>\n",
       "      <td>0</td>\n",
       "      <td>0</td>\n",
       "      <td>0</td>\n",
       "      <td>0</td>\n",
       "      <td>1</td>\n",
       "      <td>0</td>\n",
       "      <td>4.0</td>\n",
       "      <td>0.62</td>\n",
       "      <td>2.48</td>\n",
       "    </tr>\n",
       "    <tr>\n",
       "      <th>517752</th>\n",
       "      <td>0</td>\n",
       "      <td>3</td>\n",
       "      <td>0.63</td>\n",
       "      <td>25</td>\n",
       "      <td>2</td>\n",
       "      <td>0</td>\n",
       "      <td>1</td>\n",
       "      <td>0</td>\n",
       "      <td>0</td>\n",
       "      <td>1</td>\n",
       "      <td>1</td>\n",
       "      <td>3</td>\n",
       "      <td>3.0</td>\n",
       "      <td>0.63</td>\n",
       "      <td>1.89</td>\n",
       "    </tr>\n",
       "    <tr>\n",
       "      <th>517753</th>\n",
       "      <td>0</td>\n",
       "      <td>2</td>\n",
       "      <td>0.31</td>\n",
       "      <td>45</td>\n",
       "      <td>1</td>\n",
       "      <td>2</td>\n",
       "      <td>0</td>\n",
       "      <td>1</td>\n",
       "      <td>0</td>\n",
       "      <td>1</td>\n",
       "      <td>1</td>\n",
       "      <td>2</td>\n",
       "      <td>2.0</td>\n",
       "      <td>0.31</td>\n",
       "      <td>0.62</td>\n",
       "    </tr>\n",
       "  </tbody>\n",
       "</table>\n",
       "<p>517754 rows × 15 columns</p>\n",
       "</div>"
      ],
      "text/plain": [
       "        road_type  num_lanes  curvature  speed_limit  lighting  weather  \\\n",
       "0               2          2       0.06           35         0        2   \n",
       "1               2          4       0.99           35         0        0   \n",
       "2               1          4       0.63           70         1        0   \n",
       "3               0          4       0.07           35         1        2   \n",
       "4               1          1       0.58           60         0        1   \n",
       "...           ...        ...        ...          ...       ...      ...   \n",
       "517749          0          4       0.10           70         0        1   \n",
       "517750          1          4       0.47           35         0        2   \n",
       "517751          2          4       0.62           25         0        1   \n",
       "517752          0          3       0.63           25         2        0   \n",
       "517753          0          2       0.31           45         1        2   \n",
       "\n",
       "        road_signs_present  public_road  time_of_day  holiday  school_season  \\\n",
       "0                        0            1            0        0              1   \n",
       "1                        1            0            1        1              1   \n",
       "2                        0            1            2        1              0   \n",
       "3                        1            1            2        0              0   \n",
       "4                        0            0            1        1              0   \n",
       "...                    ...          ...          ...      ...            ...   \n",
       "517749                   1            1            0        0              0   \n",
       "517750                   1            1            2        0              0   \n",
       "517751                   0            0            0        0              1   \n",
       "517752                   1            0            0        1              1   \n",
       "517753                   0            1            0        1              1   \n",
       "\n",
       "        num_reported_accidents  poly_0  poly_1  poly_2  \n",
       "0                            1     2.0    0.06    0.12  \n",
       "1                            0     4.0    0.99    3.96  \n",
       "2                            2     4.0    0.63    2.52  \n",
       "3                            1     4.0    0.07    0.28  \n",
       "4                            1     1.0    0.58    0.58  \n",
       "...                        ...     ...     ...     ...  \n",
       "517749                       2     4.0    0.10    0.40  \n",
       "517750                       1     4.0    0.47    1.88  \n",
       "517751                       0     4.0    0.62    2.48  \n",
       "517752                       3     3.0    0.63    1.89  \n",
       "517753                       2     2.0    0.31    0.62  \n",
       "\n",
       "[517754 rows x 15 columns]"
      ]
     },
     "execution_count": 13,
     "metadata": {},
     "output_type": "execute_result"
    }
   ],
   "source": [
    "preprocess_train"
   ]
  },
  {
   "cell_type": "code",
   "execution_count": 14,
   "id": "315c178f",
   "metadata": {
    "execution": {
     "iopub.execute_input": "2025-10-23T04:18:14.734616Z",
     "iopub.status.busy": "2025-10-23T04:18:14.733381Z",
     "iopub.status.idle": "2025-10-23T04:18:14.749493Z",
     "shell.execute_reply": "2025-10-23T04:18:14.748253Z"
    },
    "papermill": {
     "duration": 0.024771,
     "end_time": "2025-10-23T04:18:14.751585",
     "exception": false,
     "start_time": "2025-10-23T04:18:14.726814",
     "status": "completed"
    },
    "tags": []
   },
   "outputs": [],
   "source": [
    "from sklearn.pipeline import Pipeline\n",
    "from sklearn.model_selection import cross_val_score\n",
    "from xgboost import XGBRegressor\n",
    "\n",
    "def get_score(n_estimators):\n",
    "    my_pipeline = Pipeline(steps=[\n",
    "        ('model', XGBRegressor(n_estimators=n_estimators, learning_rate=0.05) )\n",
    "    ])\n",
    "    scores = -1 * cross_val_score(my_pipeline, X_train_final, y_train_fianl,\n",
    "                              cv=5,\n",
    "                              scoring='neg_mean_absolute_error')\n",
    "    cv_mae = scores.mean()\n",
    "\n",
    "    # Fit on full training set\n",
    "    my_pipeline.fit(X_train_final, y_train_fianl)\n",
    "    \n",
    "    # Validation score\n",
    "    valid_preds = my_pipeline.predict(X_valid)\n",
    "    valid_mae = mean_absolute_error(y_valid, valid_preds)\n",
    "    \n",
    "    #print(f\"CV MAE: {cv_mae:.4f}\")\n",
    "    #print(f\"Validation MAE: {valid_mae:.4f}\")\n",
    "\n",
    "    return cv_mae, valid_mae"
   ]
  },
  {
   "cell_type": "code",
   "execution_count": 15,
   "id": "4243be66",
   "metadata": {
    "execution": {
     "iopub.execute_input": "2025-10-23T04:18:14.763508Z",
     "iopub.status.busy": "2025-10-23T04:18:14.762705Z",
     "iopub.status.idle": "2025-10-23T04:18:15.520368Z",
     "shell.execute_reply": "2025-10-23T04:18:15.519025Z"
    },
    "papermill": {
     "duration": 0.765707,
     "end_time": "2025-10-23T04:18:15.522343",
     "exception": false,
     "start_time": "2025-10-23T04:18:14.756636",
     "status": "completed"
    },
    "tags": []
   },
   "outputs": [
    {
     "name": "stdout",
     "output_type": "stream",
     "text": [
      "   id road_type  num_lanes  curvature  speed_limit  lighting weather  \\\n",
      "0   0     urban          2       0.06           35  daylight   rainy   \n",
      "1   1     urban          4       0.99           35  daylight   clear   \n",
      "2   2     rural          4       0.63           70       dim   clear   \n",
      "3   3   highway          4       0.07           35       dim   rainy   \n",
      "4   4     rural          1       0.58           60  daylight   foggy   \n",
      "\n",
      "   road_signs_present  public_road time_of_day  holiday  school_season  \\\n",
      "0               False         True   afternoon    False           True   \n",
      "1                True        False     evening     True           True   \n",
      "2               False         True     morning     True          False   \n",
      "3                True         True     morning    False          False   \n",
      "4               False        False     evening     True          False   \n",
      "\n",
      "   num_reported_accidents  accident_risk  \n",
      "0                       1           0.13  \n",
      "1                       0           0.35  \n",
      "2                       2           0.30  \n",
      "3                       1           0.21  \n",
      "4                       1           0.56  \n",
      "   id road_type  num_lanes  curvature  speed_limit  lighting weather  \\\n",
      "0   0     urban          2       0.06           35  daylight   rainy   \n",
      "1   1     urban          4       0.99           35  daylight   clear   \n",
      "2   2     rural          4       0.63           70       dim   clear   \n",
      "3   3   highway          4       0.07           35       dim   rainy   \n",
      "4   4     rural          1       0.58           60  daylight   foggy   \n",
      "\n",
      "   road_signs_present  public_road time_of_day  holiday  school_season  \\\n",
      "0               False         True   afternoon    False           True   \n",
      "1                True        False     evening     True           True   \n",
      "2               False         True     morning     True          False   \n",
      "3                True         True     morning    False          False   \n",
      "4               False        False     evening     True          False   \n",
      "\n",
      "   num_reported_accidents  accident_risk  \n",
      "0                       1           0.13  \n",
      "1                       0           0.35  \n",
      "2                       2           0.30  \n",
      "3                       1           0.21  \n",
      "4                       1           0.56  \n"
     ]
    }
   ],
   "source": [
    "train_data = preprocess_dataframe(train,drop_cols=['id'])\n",
    "test_data_id = test['id']\n",
    "test_data = preprocess_dataframe(test,drop_cols=['id'])"
   ]
  },
  {
   "cell_type": "code",
   "execution_count": 16,
   "id": "bba3be6b",
   "metadata": {
    "execution": {
     "iopub.execute_input": "2025-10-23T04:18:15.534957Z",
     "iopub.status.busy": "2025-10-23T04:18:15.534010Z",
     "iopub.status.idle": "2025-10-23T04:18:15.596781Z",
     "shell.execute_reply": "2025-10-23T04:18:15.595587Z"
    },
    "papermill": {
     "duration": 0.071117,
     "end_time": "2025-10-23T04:18:15.598791",
     "exception": false,
     "start_time": "2025-10-23T04:18:15.527674",
     "status": "completed"
    },
    "tags": []
   },
   "outputs": [],
   "source": [
    "train_x = train_data.drop(['accident_risk'] , axis=1)\n",
    "train_y = train_data['accident_risk']"
   ]
  },
  {
   "cell_type": "code",
   "execution_count": 17,
   "id": "1dbc4ba6",
   "metadata": {
    "execution": {
     "iopub.execute_input": "2025-10-23T04:18:15.610486Z",
     "iopub.status.busy": "2025-10-23T04:18:15.609605Z",
     "iopub.status.idle": "2025-10-23T04:18:15.802902Z",
     "shell.execute_reply": "2025-10-23T04:18:15.801992Z"
    },
    "papermill": {
     "duration": 0.200771,
     "end_time": "2025-10-23T04:18:15.804567",
     "exception": false,
     "start_time": "2025-10-23T04:18:15.603796",
     "status": "completed"
    },
    "tags": []
   },
   "outputs": [],
   "source": [
    "X_train_final, X_valid, y_train_fianl, y_valid = train_test_split(train_x, train_y, train_size=0.8, test_size=0.2,random_state=0)"
   ]
  },
  {
   "cell_type": "code",
   "execution_count": 18,
   "id": "6939435b",
   "metadata": {
    "execution": {
     "iopub.execute_input": "2025-10-23T04:18:15.816179Z",
     "iopub.status.busy": "2025-10-23T04:18:15.815778Z",
     "iopub.status.idle": "2025-10-23T04:18:35.505474Z",
     "shell.execute_reply": "2025-10-23T04:18:35.503954Z"
    },
    "papermill": {
     "duration": 19.69807,
     "end_time": "2025-10-23T04:18:35.507686",
     "exception": false,
     "start_time": "2025-10-23T04:18:15.809616",
     "status": "completed"
    },
    "tags": []
   },
   "outputs": [
    {
     "name": "stdout",
     "output_type": "stream",
     "text": [
      "Mean Absolute Error: 0.043599451007814795\n"
     ]
    }
   ],
   "source": [
    "# Define the model\n",
    "my_model_1 = XGBRegressor(n_estimators=1000, learning_rate=0.025) \n",
    "\n",
    "# Fit the model\n",
    "my_model_1.fit(X_train_final, y_train_fianl)\n",
    "\n",
    "# Get predictions\n",
    "predictions_1 = my_model_1.predict(X_valid)\n",
    "\n",
    "# Calculate MAE\n",
    "mae_1 =  mean_absolute_error(predictions_1, y_valid)\n",
    "\n",
    "# Uncomment to print MAE\n",
    "print(\"Mean Absolute Error:\" , mae_1)"
   ]
  },
  {
   "cell_type": "code",
   "execution_count": 19,
   "id": "b7fd3464",
   "metadata": {
    "execution": {
     "iopub.execute_input": "2025-10-23T04:18:35.521378Z",
     "iopub.status.busy": "2025-10-23T04:18:35.520019Z",
     "iopub.status.idle": "2025-10-23T04:18:40.772039Z",
     "shell.execute_reply": "2025-10-23T04:18:40.771288Z"
    },
    "papermill": {
     "duration": 5.26098,
     "end_time": "2025-10-23T04:18:40.774144",
     "exception": false,
     "start_time": "2025-10-23T04:18:35.513164",
     "status": "completed"
    },
    "tags": []
   },
   "outputs": [
    {
     "name": "stdout",
     "output_type": "stream",
     "text": [
      "Mean Absolute Error: 0.04379072902280048\n"
     ]
    }
   ],
   "source": [
    "# Define the model\n",
    "my_model_2 = XGBRegressor(n_estimators=200, learning_rate=0.025) \n",
    "\n",
    "# Fit the model\n",
    "my_model_2.fit(X_train_final, y_train_fianl)\n",
    "\n",
    "# Get predictions\n",
    "predictions_2 = my_model_2.predict(X_valid)\n",
    "\n",
    "# Calculate MAE\n",
    "mae_2 =  mean_absolute_error(predictions_2, y_valid)\n",
    "\n",
    "# Uncomment to print MAE\n",
    "print(\"Mean Absolute Error:\" , mae_2)"
   ]
  },
  {
   "cell_type": "code",
   "execution_count": 20,
   "id": "c2abd8f4",
   "metadata": {
    "execution": {
     "iopub.execute_input": "2025-10-23T04:18:40.787873Z",
     "iopub.status.busy": "2025-10-23T04:18:40.787558Z",
     "iopub.status.idle": "2025-10-23T04:18:48.097644Z",
     "shell.execute_reply": "2025-10-23T04:18:48.096631Z"
    },
    "papermill": {
     "duration": 7.318485,
     "end_time": "2025-10-23T04:18:48.099164",
     "exception": false,
     "start_time": "2025-10-23T04:18:40.780679",
     "status": "completed"
    },
    "tags": []
   },
   "outputs": [
    {
     "name": "stdout",
     "output_type": "stream",
     "text": [
      "Mean Absolute Error: 0.043693216580775\n"
     ]
    }
   ],
   "source": [
    "# Define the model\n",
    "my_model_3 = XGBRegressor(n_estimators=300, learning_rate=0.025) \n",
    "\n",
    "# Fit the model\n",
    "my_model_3.fit(X_train_final, y_train_fianl)\n",
    "\n",
    "# Get predictions\n",
    "predictions_3 = my_model_3.predict(X_valid)\n",
    "\n",
    "# Calculate MAE\n",
    "mae_3 =  mean_absolute_error(predictions_3, y_valid)\n",
    "\n",
    "# Uncomment to print MAE\n",
    "print(\"Mean Absolute Error:\" , mae_3)"
   ]
  },
  {
   "cell_type": "code",
   "execution_count": 21,
   "id": "3849d279",
   "metadata": {
    "execution": {
     "iopub.execute_input": "2025-10-23T04:18:48.110712Z",
     "iopub.status.busy": "2025-10-23T04:18:48.110373Z",
     "iopub.status.idle": "2025-10-23T04:18:48.619638Z",
     "shell.execute_reply": "2025-10-23T04:18:48.618502Z"
    },
    "papermill": {
     "duration": 0.517188,
     "end_time": "2025-10-23T04:18:48.621699",
     "exception": false,
     "start_time": "2025-10-23T04:18:48.104511",
     "status": "completed"
    },
    "tags": []
   },
   "outputs": [],
   "source": [
    "final_preds = np.round(my_model_3.predict(test_data),3)"
   ]
  },
  {
   "cell_type": "code",
   "execution_count": 22,
   "id": "ee98d97f",
   "metadata": {
    "execution": {
     "iopub.execute_input": "2025-10-23T04:18:48.635588Z",
     "iopub.status.busy": "2025-10-23T04:18:48.634494Z",
     "iopub.status.idle": "2025-10-23T04:18:48.641554Z",
     "shell.execute_reply": "2025-10-23T04:18:48.640260Z"
    },
    "papermill": {
     "duration": 0.015171,
     "end_time": "2025-10-23T04:18:48.643123",
     "exception": false,
     "start_time": "2025-10-23T04:18:48.627952",
     "status": "completed"
    },
    "tags": []
   },
   "outputs": [
    {
     "name": "stdout",
     "output_type": "stream",
     "text": [
      "[0.294 0.126 0.188 ... 0.252 0.129 0.49 ]\n"
     ]
    }
   ],
   "source": [
    "print(final_preds)"
   ]
  },
  {
   "cell_type": "code",
   "execution_count": 23,
   "id": "4b541537",
   "metadata": {
    "execution": {
     "iopub.execute_input": "2025-10-23T04:18:48.657041Z",
     "iopub.status.busy": "2025-10-23T04:18:48.655979Z",
     "iopub.status.idle": "2025-10-23T04:18:48.892376Z",
     "shell.execute_reply": "2025-10-23T04:18:48.891360Z"
    },
    "papermill": {
     "duration": 0.245282,
     "end_time": "2025-10-23T04:18:48.894198",
     "exception": false,
     "start_time": "2025-10-23T04:18:48.648916",
     "status": "completed"
    },
    "tags": []
   },
   "outputs": [
    {
     "data": {
      "text/html": [
       "<div>\n",
       "<style scoped>\n",
       "    .dataframe tbody tr th:only-of-type {\n",
       "        vertical-align: middle;\n",
       "    }\n",
       "\n",
       "    .dataframe tbody tr th {\n",
       "        vertical-align: top;\n",
       "    }\n",
       "\n",
       "    .dataframe thead th {\n",
       "        text-align: right;\n",
       "    }\n",
       "</style>\n",
       "<table border=\"1\" class=\"dataframe\">\n",
       "  <thead>\n",
       "    <tr style=\"text-align: right;\">\n",
       "      <th></th>\n",
       "      <th>id</th>\n",
       "      <th>accident_risk</th>\n",
       "    </tr>\n",
       "  </thead>\n",
       "  <tbody>\n",
       "    <tr>\n",
       "      <th>0</th>\n",
       "      <td>517754</td>\n",
       "      <td>0.294</td>\n",
       "    </tr>\n",
       "    <tr>\n",
       "      <th>1</th>\n",
       "      <td>517755</td>\n",
       "      <td>0.126</td>\n",
       "    </tr>\n",
       "    <tr>\n",
       "      <th>2</th>\n",
       "      <td>517756</td>\n",
       "      <td>0.188</td>\n",
       "    </tr>\n",
       "    <tr>\n",
       "      <th>3</th>\n",
       "      <td>517757</td>\n",
       "      <td>0.326</td>\n",
       "    </tr>\n",
       "    <tr>\n",
       "      <th>4</th>\n",
       "      <td>517758</td>\n",
       "      <td>0.410</td>\n",
       "    </tr>\n",
       "  </tbody>\n",
       "</table>\n",
       "</div>"
      ],
      "text/plain": [
       "       id  accident_risk\n",
       "0  517754          0.294\n",
       "1  517755          0.126\n",
       "2  517756          0.188\n",
       "3  517757          0.326\n",
       "4  517758          0.410"
      ]
     },
     "metadata": {},
     "output_type": "display_data"
    }
   ],
   "source": [
    "submission = pd.DataFrame({'id': test_data_id, 'accident_risk': final_preds})\n",
    "submission.to_csv('submission.csv', index=False)\n",
    "display(submission.head())"
   ]
  },
  {
   "cell_type": "code",
   "execution_count": null,
   "id": "5258a2e8",
   "metadata": {
    "papermill": {
     "duration": 0.005604,
     "end_time": "2025-10-23T04:18:48.906565",
     "exception": false,
     "start_time": "2025-10-23T04:18:48.900961",
     "status": "completed"
    },
    "tags": []
   },
   "outputs": [],
   "source": []
  }
 ],
 "metadata": {
  "kaggle": {
   "accelerator": "none",
   "dataSources": [
    {
     "databundleVersionId": 13760552,
     "sourceId": 91721,
     "sourceType": "competition"
    }
   ],
   "dockerImageVersionId": 31153,
   "isGpuEnabled": false,
   "isInternetEnabled": false,
   "language": "python",
   "sourceType": "notebook"
  },
  "kernelspec": {
   "display_name": "Python 3",
   "language": "python",
   "name": "python3"
  },
  "language_info": {
   "codemirror_mode": {
    "name": "ipython",
    "version": 3
   },
   "file_extension": ".py",
   "mimetype": "text/x-python",
   "name": "python",
   "nbconvert_exporter": "python",
   "pygments_lexer": "ipython3",
   "version": "3.11.13"
  },
  "papermill": {
   "default_parameters": {},
   "duration": 46.609212,
   "end_time": "2025-10-23T04:18:49.735244",
   "environment_variables": {},
   "exception": null,
   "input_path": "__notebook__.ipynb",
   "output_path": "__notebook__.ipynb",
   "parameters": {},
   "start_time": "2025-10-23T04:18:03.126032",
   "version": "2.6.0"
  }
 },
 "nbformat": 4,
 "nbformat_minor": 5
}
